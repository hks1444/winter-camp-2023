{
 "cells": [
  {
   "cell_type": "code",
   "execution_count": 196,
   "metadata": {},
   "outputs": [],
   "source": [
    "import pandas as pd\n",
    "import numpy as np\n",
    "import sklearn\n",
    "import matplotlib.pyplot as plt"
   ]
  },
  {
   "cell_type": "code",
   "execution_count": 197,
   "metadata": {},
   "outputs": [],
   "source": [
    "Sales = pd.read_csv(\"sales.csv\")\n",
    "Features = pd.read_csv(\"features.csv\")\n",
    "Stores = pd.read_csv(\"stores.csv\")"
   ]
  },
  {
   "cell_type": "code",
   "execution_count": 198,
   "metadata": {},
   "outputs": [],
   "source": [
    "from sklearn.compose import ColumnTransformer\n",
    "from sklearn.preprocessing import OneHotEncoder\n",
    "from sklearn.preprocessing import OrdinalEncoder"
   ]
  },
  {
   "cell_type": "code",
   "execution_count": 199,
   "metadata": {},
   "outputs": [],
   "source": [
    "ct = ColumnTransformer(transformers=[(\"transformer\",OneHotEncoder(),[1])],remainder=\"passthrough\")\n",
    "Stores = ct.fit_transform(Stores)\n",
    "Stores = pd.DataFrame(Stores,columns=[\"A\",\"B\",\"C\",\"Store\",\"Size\"])\n",
    "Stores = Stores.drop([\"Store\"],axis=1)"
   ]
  },
  {
   "cell_type": "code",
   "execution_count": 200,
   "metadata": {},
   "outputs": [],
   "source": [
    "Sales = Sales.groupby(by=[\"Store\",\"Date\"]).sum()\n",
    "Sales.drop([\"Dept\",\"IsHoliday\"],axis=1,inplace=True)\n",
    "Sales = Sales.reset_index()\n",
    "Sales = Sales[\"Weekly_Sales\"]"
   ]
  },
  {
   "cell_type": "code",
   "execution_count": 201,
   "metadata": {},
   "outputs": [
    {
     "name": "stdout",
     "output_type": "stream",
     "text": [
      "142.0\n"
     ]
    },
    {
     "name": "stderr",
     "output_type": "stream",
     "text": [
      "c:\\Users\\hasan\\AppData\\Local\\Programs\\Python\\Python310\\lib\\site-packages\\sklearn\\base.py:409: UserWarning: X does not have valid feature names, but OrdinalEncoder was fitted with feature names\n",
      "  warnings.warn(\n"
     ]
    }
   ],
   "source": [
    "enc = OrdinalEncoder()\n",
    "enc = OrdinalEncoder()\n",
    "Features[[\"Date\"]] = enc.fit_transform(Features[[\"Date\"]])\n",
    "separation_date = enc.transform([[\"2012-10-26\"]])[0][0]\n",
    "print(separation_date)\n"
   ]
  },
  {
   "cell_type": "code",
   "execution_count": 202,
   "metadata": {},
   "outputs": [],
   "source": [
    "Features_without_sales = Features[Features[\"Date\"] >separation_date]\n",
    "Features = Features[Features[\"Date\"]<=separation_date]\n",
    "Features = Features.reset_index()\n",
    "Features=Features.drop([\"index\"],axis=1)\n",
    "Features_without_sales = Features_without_sales.reset_index()\n",
    "Features_without_sales = Features_without_sales.drop([\"index\"],axis=1)"
   ]
  },
  {
   "cell_type": "code",
   "execution_count": 203,
   "metadata": {},
   "outputs": [
    {
     "name": "stdout",
     "output_type": "stream",
     "text": [
      "      Store   Date  Temperature  Fuel_Price  MarkDown1  MarkDown2  MarkDown3  \\\n",
      "0         1    0.0        42.31       2.572        NaN        NaN        NaN   \n",
      "1         1    1.0        38.51       2.548        NaN        NaN        NaN   \n",
      "2         1    2.0        39.93       2.514        NaN        NaN        NaN   \n",
      "3         1    3.0        46.63       2.561        NaN        NaN        NaN   \n",
      "4         1    4.0        46.50       2.625        NaN        NaN        NaN   \n",
      "...     ...    ...          ...         ...        ...        ...        ...   \n",
      "6430     45  138.0        64.88       3.997    4556.61      20.64       1.50   \n",
      "6431     45  139.0        64.89       3.985    5046.74        NaN      18.82   \n",
      "6432     45  140.0        54.47       4.000    1956.28        NaN       7.89   \n",
      "6433     45  141.0        56.47       3.969    2004.02        NaN       3.18   \n",
      "6434     45  142.0        58.85       3.882    4018.91      58.08     100.00   \n",
      "\n",
      "      MarkDown4  MarkDown5         CPI  Unemployment  IsHoliday    A    B  \\\n",
      "0           NaN        NaN  211.096358         8.106      False  1.0  0.0   \n",
      "1           NaN        NaN  211.242170         8.106       True  1.0  0.0   \n",
      "2           NaN        NaN  211.289143         8.106      False  1.0  0.0   \n",
      "3           NaN        NaN  211.319643         8.106      False  1.0  0.0   \n",
      "4           NaN        NaN  211.350143         8.106      False  1.0  0.0   \n",
      "...         ...        ...         ...           ...        ...  ...  ...   \n",
      "6430    1601.01    3288.25  192.013558         8.684      False  0.0  1.0   \n",
      "6431    2253.43    2340.01  192.170412         8.667      False  0.0  1.0   \n",
      "6432     599.32    3990.54  192.327265         8.667      False  0.0  1.0   \n",
      "6433     437.73    1537.49  192.330854         8.667      False  0.0  1.0   \n",
      "6434     211.94     858.33  192.308899         8.667      False  0.0  1.0   \n",
      "\n",
      "        C      Size  \n",
      "0     0.0  151315.0  \n",
      "1     0.0  151315.0  \n",
      "2     0.0  151315.0  \n",
      "3     0.0  151315.0  \n",
      "4     0.0  151315.0  \n",
      "...   ...       ...  \n",
      "6430  0.0  118221.0  \n",
      "6431  0.0  118221.0  \n",
      "6432  0.0  118221.0  \n",
      "6433  0.0  118221.0  \n",
      "6434  0.0  118221.0  \n",
      "\n",
      "[6435 rows x 16 columns]\n"
     ]
    }
   ],
   "source": [
    "lst = []\n",
    "store_columns = Stores.columns\n",
    "columns = list(Features.columns) + list(store_columns)\n",
    "Stores = Stores.values\n",
    "for i in Features.values:\n",
    "    i = list(i)\n",
    "    i.extend(Stores[i[0]-1])\n",
    "    lst.append(i)\n",
    "Features = pd.DataFrame(lst,columns=columns)\n",
    "print(Features)"
   ]
  },
  {
   "cell_type": "code",
   "execution_count": 204,
   "metadata": {},
   "outputs": [
    {
     "name": "stdout",
     "output_type": "stream",
     "text": [
      "      Store   Date  Temperature  Fuel_Price  MarkDown1  MarkDown2  MarkDown3  \\\n",
      "0         1  143.0        55.32       3.386    6766.44    5147.70      50.82   \n",
      "1         1  144.0        61.24       3.314   11421.32    3370.89      40.28   \n",
      "2         1  145.0        52.92       3.252    9696.28     292.10     103.78   \n",
      "3         1  146.0        56.23       3.211     883.59       4.17   74910.32   \n",
      "4         1  147.0        52.34       3.207    2460.03        NaN    3838.35   \n",
      "...     ...    ...          ...         ...        ...        ...        ...   \n",
      "1750     45  177.0        76.05       3.639    4842.29     975.03       3.00   \n",
      "1751     45  178.0        77.50       3.614    9090.48    2268.58     582.74   \n",
      "1752     45  179.0        79.37       3.614    3789.94    1827.31      85.72   \n",
      "1753     45  180.0        82.84       3.737    2961.49    1047.07     204.19   \n",
      "1754     45  181.0        76.06       3.804     212.02     851.73       2.06   \n",
      "\n",
      "      MarkDown4  MarkDown5         CPI  Unemployment  IsHoliday    A    B  \\\n",
      "0       3639.90    2737.42  223.462779         6.573      False  1.0  0.0   \n",
      "1       4646.79    6154.16  223.481307         6.573      False  1.0  0.0   \n",
      "2       1133.15    6612.69  223.512911         6.573      False  1.0  0.0   \n",
      "3        209.91     303.32  223.561947         6.573       True  1.0  0.0   \n",
      "4        150.57    6966.34  223.610984         6.573      False  1.0  0.0   \n",
      "...         ...        ...         ...           ...        ...  ...  ...   \n",
      "1750    2449.97    3169.69         NaN           NaN      False  0.0  1.0   \n",
      "1751    5797.47    1514.93         NaN           NaN      False  0.0  1.0   \n",
      "1752     744.84    2150.36         NaN           NaN      False  0.0  1.0   \n",
      "1753     363.00    1059.46         NaN           NaN      False  0.0  1.0   \n",
      "1754      10.88    1864.57         NaN           NaN      False  0.0  1.0   \n",
      "\n",
      "        C      Size  \n",
      "0     0.0  151315.0  \n",
      "1     0.0  151315.0  \n",
      "2     0.0  151315.0  \n",
      "3     0.0  151315.0  \n",
      "4     0.0  151315.0  \n",
      "...   ...       ...  \n",
      "1750  0.0  118221.0  \n",
      "1751  0.0  118221.0  \n",
      "1752  0.0  118221.0  \n",
      "1753  0.0  118221.0  \n",
      "1754  0.0  118221.0  \n",
      "\n",
      "[1755 rows x 16 columns]\n"
     ]
    }
   ],
   "source": [
    "lst = []\n",
    "columns = list(Features_without_sales.columns) + list(store_columns)\n",
    "for i in Features_without_sales.values:\n",
    "    i = list(i)\n",
    "    i.extend(Stores[i[0]-1])\n",
    "    lst.append(i)\n",
    "Features_without_sales = pd.DataFrame(lst,columns=columns)\n",
    "Features_without_sales = pd.DataFrame(lst,columns=columns)\n",
    "\n",
    "print(Features_without_sales)"
   ]
  },
  {
   "cell_type": "code",
   "execution_count": 205,
   "metadata": {},
   "outputs": [
    {
     "name": "stdout",
     "output_type": "stream",
     "text": [
      "Store              0\n",
      "Date               0\n",
      "Temperature        0\n",
      "Fuel_Price         0\n",
      "MarkDown1       4155\n",
      "MarkDown2       4798\n",
      "MarkDown3       4389\n",
      "MarkDown4       4470\n",
      "MarkDown5       4140\n",
      "CPI                0\n",
      "Unemployment       0\n",
      "IsHoliday          0\n",
      "A                  0\n",
      "B                  0\n",
      "C                  0\n",
      "Size               0\n",
      "dtype: int64\n"
     ]
    }
   ],
   "source": [
    "print(pd.isnull(Features).sum())"
   ]
  },
  {
   "cell_type": "code",
   "execution_count": 206,
   "metadata": {},
   "outputs": [
    {
     "data": {
      "image/png": "[encoded data removed]",
      "text/plain": [
       "<Figure size 640x480 with 1 Axes>"
      ]
     },
     "metadata": {},
     "output_type": "display_data"
    },
    {
     "data": {
      "image/png": "[encoded data removed]",
      "text/plain": [
       "<Figure size 640x480 with 1 Axes>"
      ]
     },
     "metadata": {},
     "output_type": "display_data"
    },
    {
     "data": {
      "image/png": "[encoded data removed]",
      "text/plain": [
       "<Figure size 640x480 with 1 Axes>"
      ]
     },
     "metadata": {},
     "output_type": "display_data"
    },
    {
     "data": {
      "image/png": "[encoded data removed]",
      "text/plain": [
       "<Figure size 640x480 with 1 Axes>"
      ]
     },
     "metadata": {},
     "output_type": "display_data"
    },
    {
     "data": {
      "image/png": "[encoded data removed]",
      "text/plain": [
       "<Figure size 640x480 with 1 Axes>"
      ]
     },
     "metadata": {},
     "output_type": "display_data"
    }
   ],
   "source": [
    "Features[\"Sales\"] = Sales\n",
    "Features_for_Store1= Features[Features[\"Store\"] == 22]\n",
    "for i in [\"MarkDown1\",\"MarkDown2\",\"MarkDown3\",\"MarkDown4\",\"MarkDown5\"]:\n",
    "    plt.xlabel(i)\n",
    "    plt.ylabel(\"Date\")\n",
    "    plt.scatter(Features_for_Store1[i],Features_for_Store1[\"Date\"])\n",
    "    plt.show()"
   ]
  },
  {
   "cell_type": "code",
   "execution_count": 207,
   "metadata": {},
   "outputs": [],
   "source": [
    "Features_without_sales=Features_without_sales.drop([\"Store\"],axis=1)\n",
    "Features=Features.drop([\"Store\"],axis=1)"
   ]
  },
  {
   "cell_type": "code",
   "execution_count": 208,
   "metadata": {},
   "outputs": [
    {
     "data": {
      "text/html": [
       "<div>\n",
       "<style scoped>\n",
       "    .dataframe tbody tr th:only-of-type {\n",
       "        vertical-align: middle;\n",
       "    }\n",
       "\n",
       "    .dataframe tbody tr th {\n",
       "        vertical-align: top;\n",
       "    }\n",
       "\n",
       "    .dataframe thead th {\n",
       "        text-align: right;\n",
       "    }\n",
       "</style>\n",
       "<table border=\"1\" class=\"dataframe\">\n",
       "  <thead>\n",
       "    <tr style=\"text-align: right;\">\n",
       "      <th></th>\n",
       "      <th>Date</th>\n",
       "      <th>Temperature</th>\n",
       "      <th>Fuel_Price</th>\n",
       "      <th>MarkDown1</th>\n",
       "      <th>MarkDown2</th>\n",
       "      <th>MarkDown3</th>\n",
       "      <th>MarkDown4</th>\n",
       "      <th>MarkDown5</th>\n",
       "      <th>CPI</th>\n",
       "      <th>Unemployment</th>\n",
       "      <th>IsHoliday</th>\n",
       "      <th>A</th>\n",
       "      <th>B</th>\n",
       "      <th>C</th>\n",
       "      <th>Size</th>\n",
       "    </tr>\n",
       "  </thead>\n",
       "  <tbody>\n",
       "    <tr>\n",
       "      <th>0</th>\n",
       "      <td>0.0</td>\n",
       "      <td>42.31</td>\n",
       "      <td>2.572</td>\n",
       "      <td>NaN</td>\n",
       "      <td>NaN</td>\n",
       "      <td>NaN</td>\n",
       "      <td>NaN</td>\n",
       "      <td>NaN</td>\n",
       "      <td>211.096358</td>\n",
       "      <td>8.106</td>\n",
       "      <td>False</td>\n",
       "      <td>1.0</td>\n",
       "      <td>0.0</td>\n",
       "      <td>0.0</td>\n",
       "      <td>151315.0</td>\n",
       "    </tr>\n",
       "    <tr>\n",
       "      <th>1</th>\n",
       "      <td>1.0</td>\n",
       "      <td>38.51</td>\n",
       "      <td>2.548</td>\n",
       "      <td>NaN</td>\n",
       "      <td>NaN</td>\n",
       "      <td>NaN</td>\n",
       "      <td>NaN</td>\n",
       "      <td>NaN</td>\n",
       "      <td>211.242170</td>\n",
       "      <td>8.106</td>\n",
       "      <td>True</td>\n",
       "      <td>1.0</td>\n",
       "      <td>0.0</td>\n",
       "      <td>0.0</td>\n",
       "      <td>151315.0</td>\n",
       "    </tr>\n",
       "    <tr>\n",
       "      <th>2</th>\n",
       "      <td>2.0</td>\n",
       "      <td>39.93</td>\n",
       "      <td>2.514</td>\n",
       "      <td>NaN</td>\n",
       "      <td>NaN</td>\n",
       "      <td>NaN</td>\n",
       "      <td>NaN</td>\n",
       "      <td>NaN</td>\n",
       "      <td>211.289143</td>\n",
       "      <td>8.106</td>\n",
       "      <td>False</td>\n",
       "      <td>1.0</td>\n",
       "      <td>0.0</td>\n",
       "      <td>0.0</td>\n",
       "      <td>151315.0</td>\n",
       "    </tr>\n",
       "    <tr>\n",
       "      <th>3</th>\n",
       "      <td>3.0</td>\n",
       "      <td>46.63</td>\n",
       "      <td>2.561</td>\n",
       "      <td>NaN</td>\n",
       "      <td>NaN</td>\n",
       "      <td>NaN</td>\n",
       "      <td>NaN</td>\n",
       "      <td>NaN</td>\n",
       "      <td>211.319643</td>\n",
       "      <td>8.106</td>\n",
       "      <td>False</td>\n",
       "      <td>1.0</td>\n",
       "      <td>0.0</td>\n",
       "      <td>0.0</td>\n",
       "      <td>151315.0</td>\n",
       "    </tr>\n",
       "    <tr>\n",
       "      <th>4</th>\n",
       "      <td>4.0</td>\n",
       "      <td>46.50</td>\n",
       "      <td>2.625</td>\n",
       "      <td>NaN</td>\n",
       "      <td>NaN</td>\n",
       "      <td>NaN</td>\n",
       "      <td>NaN</td>\n",
       "      <td>NaN</td>\n",
       "      <td>211.350143</td>\n",
       "      <td>8.106</td>\n",
       "      <td>False</td>\n",
       "      <td>1.0</td>\n",
       "      <td>0.0</td>\n",
       "      <td>0.0</td>\n",
       "      <td>151315.0</td>\n",
       "    </tr>\n",
       "    <tr>\n",
       "      <th>...</th>\n",
       "      <td>...</td>\n",
       "      <td>...</td>\n",
       "      <td>...</td>\n",
       "      <td>...</td>\n",
       "      <td>...</td>\n",
       "      <td>...</td>\n",
       "      <td>...</td>\n",
       "      <td>...</td>\n",
       "      <td>...</td>\n",
       "      <td>...</td>\n",
       "      <td>...</td>\n",
       "      <td>...</td>\n",
       "      <td>...</td>\n",
       "      <td>...</td>\n",
       "      <td>...</td>\n",
       "    </tr>\n",
       "    <tr>\n",
       "      <th>6430</th>\n",
       "      <td>138.0</td>\n",
       "      <td>64.88</td>\n",
       "      <td>3.997</td>\n",
       "      <td>4556.61</td>\n",
       "      <td>20.64</td>\n",
       "      <td>1.50</td>\n",
       "      <td>1601.01</td>\n",
       "      <td>3288.25</td>\n",
       "      <td>192.013558</td>\n",
       "      <td>8.684</td>\n",
       "      <td>False</td>\n",
       "      <td>0.0</td>\n",
       "      <td>1.0</td>\n",
       "      <td>0.0</td>\n",
       "      <td>118221.0</td>\n",
       "    </tr>\n",
       "    <tr>\n",
       "      <th>6431</th>\n",
       "      <td>139.0</td>\n",
       "      <td>64.89</td>\n",
       "      <td>3.985</td>\n",
       "      <td>5046.74</td>\n",
       "      <td>NaN</td>\n",
       "      <td>18.82</td>\n",
       "      <td>2253.43</td>\n",
       "      <td>2340.01</td>\n",
       "      <td>192.170412</td>\n",
       "      <td>8.667</td>\n",
       "      <td>False</td>\n",
       "      <td>0.0</td>\n",
       "      <td>1.0</td>\n",
       "      <td>0.0</td>\n",
       "      <td>118221.0</td>\n",
       "    </tr>\n",
       "    <tr>\n",
       "      <th>6432</th>\n",
       "      <td>140.0</td>\n",
       "      <td>54.47</td>\n",
       "      <td>4.000</td>\n",
       "      <td>1956.28</td>\n",
       "      <td>NaN</td>\n",
       "      <td>7.89</td>\n",
       "      <td>599.32</td>\n",
       "      <td>3990.54</td>\n",
       "      <td>192.327265</td>\n",
       "      <td>8.667</td>\n",
       "      <td>False</td>\n",
       "      <td>0.0</td>\n",
       "      <td>1.0</td>\n",
       "      <td>0.0</td>\n",
       "      <td>118221.0</td>\n",
       "    </tr>\n",
       "    <tr>\n",
       "      <th>6433</th>\n",
       "      <td>141.0</td>\n",
       "      <td>56.47</td>\n",
       "      <td>3.969</td>\n",
       "      <td>2004.02</td>\n",
       "      <td>NaN</td>\n",
       "      <td>3.18</td>\n",
       "      <td>437.73</td>\n",
       "      <td>1537.49</td>\n",
       "      <td>192.330854</td>\n",
       "      <td>8.667</td>\n",
       "      <td>False</td>\n",
       "      <td>0.0</td>\n",
       "      <td>1.0</td>\n",
       "      <td>0.0</td>\n",
       "      <td>118221.0</td>\n",
       "    </tr>\n",
       "    <tr>\n",
       "      <th>6434</th>\n",
       "      <td>142.0</td>\n",
       "      <td>58.85</td>\n",
       "      <td>3.882</td>\n",
       "      <td>4018.91</td>\n",
       "      <td>58.08</td>\n",
       "      <td>100.00</td>\n",
       "      <td>211.94</td>\n",
       "      <td>858.33</td>\n",
       "      <td>192.308899</td>\n",
       "      <td>8.667</td>\n",
       "      <td>False</td>\n",
       "      <td>0.0</td>\n",
       "      <td>1.0</td>\n",
       "      <td>0.0</td>\n",
       "      <td>118221.0</td>\n",
       "    </tr>\n",
       "  </tbody>\n",
       "</table>\n",
       "<p>6435 rows × 15 columns</p>\n",
       "</div>"
      ],
      "text/plain": [
       "       Date  Temperature  Fuel_Price  MarkDown1  MarkDown2  MarkDown3  \\\n",
       "0       0.0        42.31       2.572        NaN        NaN        NaN   \n",
       "1       1.0        38.51       2.548        NaN        NaN        NaN   \n",
       "2       2.0        39.93       2.514        NaN        NaN        NaN   \n",
       "3       3.0        46.63       2.561        NaN        NaN        NaN   \n",
       "4       4.0        46.50       2.625        NaN        NaN        NaN   \n",
       "...     ...          ...         ...        ...        ...        ...   \n",
       "6430  138.0        64.88       3.997    4556.61      20.64       1.50   \n",
       "6431  139.0        64.89       3.985    5046.74        NaN      18.82   \n",
       "6432  140.0        54.47       4.000    1956.28        NaN       7.89   \n",
       "6433  141.0        56.47       3.969    2004.02        NaN       3.18   \n",
       "6434  142.0        58.85       3.882    4018.91      58.08     100.00   \n",
       "\n",
       "      MarkDown4  MarkDown5         CPI  Unemployment  IsHoliday    A    B  \\\n",
       "0           NaN        NaN  211.096358         8.106      False  1.0  0.0   \n",
       "1           NaN        NaN  211.242170         8.106       True  1.0  0.0   \n",
       "2           NaN        NaN  211.289143         8.106      False  1.0  0.0   \n",
       "3           NaN        NaN  211.319643         8.106      False  1.0  0.0   \n",
       "4           NaN        NaN  211.350143         8.106      False  1.0  0.0   \n",
       "...         ...        ...         ...           ...        ...  ...  ...   \n",
       "6430    1601.01    3288.25  192.013558         8.684      False  0.0  1.0   \n",
       "6431    2253.43    2340.01  192.170412         8.667      False  0.0  1.0   \n",
       "6432     599.32    3990.54  192.327265         8.667      False  0.0  1.0   \n",
       "6433     437.73    1537.49  192.330854         8.667      False  0.0  1.0   \n",
       "6434     211.94     858.33  192.308899         8.667      False  0.0  1.0   \n",
       "\n",
       "        C      Size  \n",
       "0     0.0  151315.0  \n",
       "1     0.0  151315.0  \n",
       "2     0.0  151315.0  \n",
       "3     0.0  151315.0  \n",
       "4     0.0  151315.0  \n",
       "...   ...       ...  \n",
       "6430  0.0  118221.0  \n",
       "6431  0.0  118221.0  \n",
       "6432  0.0  118221.0  \n",
       "6433  0.0  118221.0  \n",
       "6434  0.0  118221.0  \n",
       "\n",
       "[6435 rows x 15 columns]"
      ]
     },
     "execution_count": 208,
     "metadata": {},
     "output_type": "execute_result"
    }
   ],
   "source": [
    "Y = Features[\"Sales\"]\n",
    "Features.drop([\"Sales\"],axis=1)"
   ]
  },
  {
   "cell_type": "code",
   "execution_count": 209,
   "metadata": {},
   "outputs": [
    {
     "name": "stdout",
     "output_type": "stream",
     "text": [
      "[[5.90000000e+01 7.03300000e+01 3.47300000e+00 ... 1.00000000e+00\n",
      "  4.29880000e+04 4.31754010e+05]\n",
      " [7.10000000e+01 6.33500000e+01 3.70400000e+00 ... 0.00000000e+00\n",
      "  2.19622000e+05 2.08643349e+06]\n",
      " [7.80000000e+01 7.82200000e+01 3.84200000e+00 ... 0.00000000e+00\n",
      "  1.18221000e+05 7.65996920e+05]\n",
      " ...\n",
      " [3.20000000e+01 6.03100000e+01 2.84600000e+00 ... 0.00000000e+00\n",
      "  2.03819000e+05 1.27329546e+06]\n",
      " [1.15000000e+02 6.67300000e+01 4.22200000e+00 ... 0.00000000e+00\n",
      "  1.12238000e+05 1.00648696e+06]\n",
      " [1.31000000e+02 9.07800000e+01 3.81100000e+00 ... 1.00000000e+00\n",
      "  3.96900000e+04 5.76620310e+05]]\n"
     ]
    }
   ],
   "source": [
    "from sklearn.model_selection import train_test_split\n",
    "X_train,X_test,y_train,y_test = train_test_split(Features,Y,random_state=3,test_size=0.3)\n",
    "from sklearn.impute import SimpleImputer\n",
    "imputer = SimpleImputer()\n",
    "X_train=imputer.fit_transform(X_train)\n",
    "print(X_train)"
   ]
  },
  {
   "cell_type": "code",
   "execution_count": 210,
   "metadata": {},
   "outputs": [
    {
     "data": {
      "text/html": [
       "<style>#sk-container-id-18 {color: black;background-color: white;}#sk-container-id-18 pre{padding: 0;}#sk-container-id-18 div.sk-toggleable {background-color: white;}#sk-container-id-18 label.sk-toggleable__label {cursor: pointer;display: block;width: 100%;margin-bottom: 0;padding: 0.3em;box-sizing: border-box;text-align: center;}#sk-container-id-18 label.sk-toggleable__label-arrow:before {content: \"▸\";float: left;margin-right: 0.25em;color: #696969;}#sk-container-id-18 label.sk-toggleable__label-arrow:hover:before {color: black;}#sk-container-id-18 div.sk-estimator:hover label.sk-toggleable__label-arrow:before {color: black;}#sk-container-id-18 div.sk-toggleable__content {max-height: 0;max-width: 0;overflow: hidden;text-align: left;background-color: #f0f8ff;}#sk-container-id-18 div.sk-toggleable__content pre {margin: 0.2em;color: black;border-radius: 0.25em;background-color: #f0f8ff;}#sk-container-id-18 input.sk-toggleable__control:checked~div.sk-toggleable__content {max-height: 200px;max-width: 100%;overflow: auto;}#sk-container-id-18 input.sk-toggleable__control:checked~label.sk-toggleable__label-arrow:before {content: \"▾\";}#sk-container-id-18 div.sk-estimator input.sk-toggleable__control:checked~label.sk-toggleable__label {background-color: #d4ebff;}#sk-container-id-18 div.sk-label input.sk-toggleable__control:checked~label.sk-toggleable__label {background-color: #d4ebff;}#sk-container-id-18 input.sk-hidden--visually {border: 0;clip: rect(1px 1px 1px 1px);clip: rect(1px, 1px, 1px, 1px);height: 1px;margin: -1px;overflow: hidden;padding: 0;position: absolute;width: 1px;}#sk-container-id-18 div.sk-estimator {font-family: monospace;background-color: #f0f8ff;border: 1px dotted black;border-radius: 0.25em;box-sizing: border-box;margin-bottom: 0.5em;}#sk-container-id-18 div.sk-estimator:hover {background-color: #d4ebff;}#sk-container-id-18 div.sk-parallel-item::after {content: \"\";width: 100%;border-bottom: 1px solid gray;flex-grow: 1;}#sk-container-id-18 div.sk-label:hover label.sk-toggleable__label {background-color: #d4ebff;}#sk-container-id-18 div.sk-serial::before {content: \"\";position: absolute;border-left: 1px solid gray;box-sizing: border-box;top: 0;bottom: 0;left: 50%;z-index: 0;}#sk-container-id-18 div.sk-serial {display: flex;flex-direction: column;align-items: center;background-color: white;padding-right: 0.2em;padding-left: 0.2em;position: relative;}#sk-container-id-18 div.sk-item {position: relative;z-index: 1;}#sk-container-id-18 div.sk-parallel {display: flex;align-items: stretch;justify-content: center;background-color: white;position: relative;}#sk-container-id-18 div.sk-item::before, #sk-container-id-18 div.sk-parallel-item::before {content: \"\";position: absolute;border-left: 1px solid gray;box-sizing: border-box;top: 0;bottom: 0;left: 50%;z-index: -1;}#sk-container-id-18 div.sk-parallel-item {display: flex;flex-direction: column;z-index: 1;position: relative;background-color: white;}#sk-container-id-18 div.sk-parallel-item:first-child::after {align-self: flex-end;width: 50%;}#sk-container-id-18 div.sk-parallel-item:last-child::after {align-self: flex-start;width: 50%;}#sk-container-id-18 div.sk-parallel-item:only-child::after {width: 0;}#sk-container-id-18 div.sk-dashed-wrapped {border: 1px dashed gray;margin: 0 0.4em 0.5em 0.4em;box-sizing: border-box;padding-bottom: 0.4em;background-color: white;}#sk-container-id-18 div.sk-label label {font-family: monospace;font-weight: bold;display: inline-block;line-height: 1.2em;}#sk-container-id-18 div.sk-label-container {text-align: center;}#sk-container-id-18 div.sk-container {/* jupyter's `normalize.less` sets `[hidden] { display: none; }` but bootstrap.min.css set `[hidden] { display: none !important; }` so we also need the `!important` here to be able to override the default hidden behavior on the sphinx rendered scikit-learn.org. See: https://github.com/scikit-learn/scikit-learn/issues/21755 */display: inline-block !important;position: relative;}#sk-container-id-18 div.sk-text-repr-fallback {display: none;}</style><div id=\"sk-container-id-18\" class=\"sk-top-container\"><div class=\"sk-text-repr-fallback\"><pre>RandomForestRegressor()</pre><b>In a Jupyter environment, please rerun this cell to show the HTML representation or trust the notebook. <br />On GitHub, the HTML representation is unable to render, please try loading this page with nbviewer.org.</b></div><div class=\"sk-container\" hidden><div class=\"sk-item\"><div class=\"sk-estimator sk-toggleable\"><input class=\"sk-toggleable__control sk-hidden--visually\" id=\"sk-estimator-id-18\" type=\"checkbox\" checked><label for=\"sk-estimator-id-18\" class=\"sk-toggleable__label sk-toggleable__label-arrow\">RandomForestRegressor</label><div class=\"sk-toggleable__content\"><pre>RandomForestRegressor()</pre></div></div></div></div></div>"
      ],
      "text/plain": [
       "RandomForestRegressor()"
      ]
     },
     "execution_count": 210,
     "metadata": {},
     "output_type": "execute_result"
    }
   ],
   "source": [
    "from sklearn.ensemble import RandomForestRegressor\n",
    "random_forest = RandomForestRegressor()\n",
    "random_forest.fit(X_train,y_train)"
   ]
  },
  {
   "cell_type": "code",
   "execution_count": 211,
   "metadata": {},
   "outputs": [
    {
     "data": {
      "text/html": [
       "<style>#sk-container-id-19 {color: black;background-color: white;}#sk-container-id-19 pre{padding: 0;}#sk-container-id-19 div.sk-toggleable {background-color: white;}#sk-container-id-19 label.sk-toggleable__label {cursor: pointer;display: block;width: 100%;margin-bottom: 0;padding: 0.3em;box-sizing: border-box;text-align: center;}#sk-container-id-19 label.sk-toggleable__label-arrow:before {content: \"▸\";float: left;margin-right: 0.25em;color: #696969;}#sk-container-id-19 label.sk-toggleable__label-arrow:hover:before {color: black;}#sk-container-id-19 div.sk-estimator:hover label.sk-toggleable__label-arrow:before {color: black;}#sk-container-id-19 div.sk-toggleable__content {max-height: 0;max-width: 0;overflow: hidden;text-align: left;background-color: #f0f8ff;}#sk-container-id-19 div.sk-toggleable__content pre {margin: 0.2em;color: black;border-radius: 0.25em;background-color: #f0f8ff;}#sk-container-id-19 input.sk-toggleable__control:checked~div.sk-toggleable__content {max-height: 200px;max-width: 100%;overflow: auto;}#sk-container-id-19 input.sk-toggleable__control:checked~label.sk-toggleable__label-arrow:before {content: \"▾\";}#sk-container-id-19 div.sk-estimator input.sk-toggleable__control:checked~label.sk-toggleable__label {background-color: #d4ebff;}#sk-container-id-19 div.sk-label input.sk-toggleable__control:checked~label.sk-toggleable__label {background-color: #d4ebff;}#sk-container-id-19 input.sk-hidden--visually {border: 0;clip: rect(1px 1px 1px 1px);clip: rect(1px, 1px, 1px, 1px);height: 1px;margin: -1px;overflow: hidden;padding: 0;position: absolute;width: 1px;}#sk-container-id-19 div.sk-estimator {font-family: monospace;background-color: #f0f8ff;border: 1px dotted black;border-radius: 0.25em;box-sizing: border-box;margin-bottom: 0.5em;}#sk-container-id-19 div.sk-estimator:hover {background-color: #d4ebff;}#sk-container-id-19 div.sk-parallel-item::after {content: \"\";width: 100%;border-bottom: 1px solid gray;flex-grow: 1;}#sk-container-id-19 div.sk-label:hover label.sk-toggleable__label {background-color: #d4ebff;}#sk-container-id-19 div.sk-serial::before {content: \"\";position: absolute;border-left: 1px solid gray;box-sizing: border-box;top: 0;bottom: 0;left: 50%;z-index: 0;}#sk-container-id-19 div.sk-serial {display: flex;flex-direction: column;align-items: center;background-color: white;padding-right: 0.2em;padding-left: 0.2em;position: relative;}#sk-container-id-19 div.sk-item {position: relative;z-index: 1;}#sk-container-id-19 div.sk-parallel {display: flex;align-items: stretch;justify-content: center;background-color: white;position: relative;}#sk-container-id-19 div.sk-item::before, #sk-container-id-19 div.sk-parallel-item::before {content: \"\";position: absolute;border-left: 1px solid gray;box-sizing: border-box;top: 0;bottom: 0;left: 50%;z-index: -1;}#sk-container-id-19 div.sk-parallel-item {display: flex;flex-direction: column;z-index: 1;position: relative;background-color: white;}#sk-container-id-19 div.sk-parallel-item:first-child::after {align-self: flex-end;width: 50%;}#sk-container-id-19 div.sk-parallel-item:last-child::after {align-self: flex-start;width: 50%;}#sk-container-id-19 div.sk-parallel-item:only-child::after {width: 0;}#sk-container-id-19 div.sk-dashed-wrapped {border: 1px dashed gray;margin: 0 0.4em 0.5em 0.4em;box-sizing: border-box;padding-bottom: 0.4em;background-color: white;}#sk-container-id-19 div.sk-label label {font-family: monospace;font-weight: bold;display: inline-block;line-height: 1.2em;}#sk-container-id-19 div.sk-label-container {text-align: center;}#sk-container-id-19 div.sk-container {/* jupyter's `normalize.less` sets `[hidden] { display: none; }` but bootstrap.min.css set `[hidden] { display: none !important; }` so we also need the `!important` here to be able to override the default hidden behavior on the sphinx rendered scikit-learn.org. See: https://github.com/scikit-learn/scikit-learn/issues/21755 */display: inline-block !important;position: relative;}#sk-container-id-19 div.sk-text-repr-fallback {display: none;}</style><div id=\"sk-container-id-19\" class=\"sk-top-container\"><div class=\"sk-text-repr-fallback\"><pre>XGBRegressor(base_score=None, booster=None, callbacks=None,\n",
       "             colsample_bylevel=None, colsample_bynode=None,\n",
       "             colsample_bytree=None, early_stopping_rounds=None,\n",
       "             enable_categorical=False, eval_metric=None, feature_types=None,\n",
       "             gamma=None, gpu_id=None, grow_policy=None, importance_type=None,\n",
       "             interaction_constraints=None, learning_rate=None, max_bin=None,\n",
       "             max_cat_threshold=None, max_cat_to_onehot=None,\n",
       "             max_delta_step=None, max_depth=None, max_leaves=None,\n",
       "             min_child_weight=None, missing=nan, monotone_constraints=None,\n",
       "             n_estimators=100, n_jobs=None, num_parallel_tree=None,\n",
       "             predictor=None, random_state=None, ...)</pre><b>In a Jupyter environment, please rerun this cell to show the HTML representation or trust the notebook. <br />On GitHub, the HTML representation is unable to render, please try loading this page with nbviewer.org.</b></div><div class=\"sk-container\" hidden><div class=\"sk-item\"><div class=\"sk-estimator sk-toggleable\"><input class=\"sk-toggleable__control sk-hidden--visually\" id=\"sk-estimator-id-19\" type=\"checkbox\" checked><label for=\"sk-estimator-id-19\" class=\"sk-toggleable__label sk-toggleable__label-arrow\">XGBRegressor</label><div class=\"sk-toggleable__content\"><pre>XGBRegressor(base_score=None, booster=None, callbacks=None,\n",
       "             colsample_bylevel=None, colsample_bynode=None,\n",
       "             colsample_bytree=None, early_stopping_rounds=None,\n",
       "             enable_categorical=False, eval_metric=None, feature_types=None,\n",
       "             gamma=None, gpu_id=None, grow_policy=None, importance_type=None,\n",
       "             interaction_constraints=None, learning_rate=None, max_bin=None,\n",
       "             max_cat_threshold=None, max_cat_to_onehot=None,\n",
       "             max_delta_step=None, max_depth=None, max_leaves=None,\n",
       "             min_child_weight=None, missing=nan, monotone_constraints=None,\n",
       "             n_estimators=100, n_jobs=None, num_parallel_tree=None,\n",
       "             predictor=None, random_state=None, ...)</pre></div></div></div></div></div>"
      ],
      "text/plain": [
       "XGBRegressor(base_score=None, booster=None, callbacks=None,\n",
       "             colsample_bylevel=None, colsample_bynode=None,\n",
       "             colsample_bytree=None, early_stopping_rounds=None,\n",
       "             enable_categorical=False, eval_metric=None, feature_types=None,\n",
       "             gamma=None, gpu_id=None, grow_policy=None, importance_type=None,\n",
       "             interaction_constraints=None, learning_rate=None, max_bin=None,\n",
       "             max_cat_threshold=None, max_cat_to_onehot=None,\n",
       "             max_delta_step=None, max_depth=None, max_leaves=None,\n",
       "             min_child_weight=None, missing=nan, monotone_constraints=None,\n",
       "             n_estimators=100, n_jobs=None, num_parallel_tree=None,\n",
       "             predictor=None, random_state=None, ...)"
      ]
     },
     "execution_count": 211,
     "metadata": {},
     "output_type": "execute_result"
    }
   ],
   "source": [
    "from xgboost import XGBRegressor\n",
    "xgboost = XGBRegressor()\n",
    "xgboost.fit(X_train,y_train)"
   ]
  },
  {
   "cell_type": "code",
   "execution_count": 212,
   "metadata": {},
   "outputs": [],
   "source": [
    "X_test = imputer.transform(X_test)"
   ]
  },
  {
   "cell_type": "code",
   "execution_count": 213,
   "metadata": {},
   "outputs": [
    {
     "data": {
      "text/plain": [
       "0.9999190984718772"
      ]
     },
     "execution_count": 213,
     "metadata": {},
     "output_type": "execute_result"
    }
   ],
   "source": [
    "xgboost.score(X_test,y_test)"
   ]
  },
  {
   "cell_type": "code",
   "execution_count": 214,
   "metadata": {},
   "outputs": [
    {
     "data": {
      "text/plain": [
       "0.9998351662535909"
      ]
     },
     "execution_count": 214,
     "metadata": {},
     "output_type": "execute_result"
    }
   ],
   "source": [
    "random_forest.score(X_test,y_test)"
   ]
  },
  {
   "cell_type": "code",
   "execution_count": 215,
   "metadata": {},
   "outputs": [
    {
     "name": "stdout",
     "output_type": "stream",
     "text": [
      "Xgboost score: 0.9999190984718772\n",
      "Random Forest: 0.9998351662535909\n"
     ]
    }
   ],
   "source": [
    "from sklearn.metrics import r2_score\n",
    "preds_xgb = xgboost.predict(X_test)\n",
    "print(\"Xgboost score: \"+str(r2_score(y_test, preds_xgb)))\n",
    "preds_random_forest = random_forest.predict(X_test)\n",
    "print(\"Random Forest: \"+str(r2_score(y_test, preds_random_forest)))"
   ]
  },
  {
   "cell_type": "code",
   "execution_count": 216,
   "metadata": {},
   "outputs": [
    {
     "name": "stdout",
     "output_type": "stream",
     "text": [
      "[[0.00000000e+00 4.23100000e+01 2.57200000e+00 ... 0.00000000e+00\n",
      "  1.51315000e+05 1.64369090e+06]\n",
      " [1.00000000e+00 3.85100000e+01 2.54800000e+00 ... 0.00000000e+00\n",
      "  1.51315000e+05 1.64195744e+06]\n",
      " [2.00000000e+00 3.99300000e+01 2.51400000e+00 ... 0.00000000e+00\n",
      "  1.51315000e+05 1.61196817e+06]\n",
      " ...\n",
      " [1.40000000e+02 5.44700000e+01 4.00000000e+00 ... 0.00000000e+00\n",
      "  1.18221000e+05 7.34464360e+05]\n",
      " [1.41000000e+02 5.64700000e+01 3.96900000e+00 ... 0.00000000e+00\n",
      "  1.18221000e+05 7.18125530e+05]\n",
      " [1.42000000e+02 5.88500000e+01 3.88200000e+00 ... 0.00000000e+00\n",
      "  1.18221000e+05 7.60281430e+05]]\n"
     ]
    }
   ],
   "source": [
    "from sklearn.impute import SimpleImputer\n",
    "imputer = SimpleImputer()\n",
    "Features=imputer.fit_transform(Features)\n",
    "print(Features)\n",
    "Features = pd.DataFrame(Features)"
   ]
  },
  {
   "cell_type": "code",
   "execution_count": 217,
   "metadata": {},
   "outputs": [
    {
     "name": "stdout",
     "output_type": "stream",
     "text": [
      "[0.99991236 0.99986592 0.99981472 0.99993302 0.99995785]\n",
      "[0.99989926 0.99986774 0.99983601 0.99990145 0.99999783]\n"
     ]
    }
   ],
   "source": [
    "from sklearn.model_selection import cross_val_score\n",
    "acc_xgb = cross_val_score(xgboost,Features,Sales)\n",
    "acc_ran = cross_val_score(random_forest,Features,Sales)\n",
    "print(acc_xgb)\n",
    "print(acc_ran)"
   ]
  }
 ],
 "metadata": {
  "kernelspec": {
   "display_name": "Python 3",
   "language": "python",
   "name": "python3"
  },
  "language_info": {
   "codemirror_mode": {
    "name": "ipython",
    "version": 3
   },
   "file_extension": ".py",
   "mimetype": "text/x-python",
   "name": "python",
   "nbconvert_exporter": "python",
   "pygments_lexer": "ipython3",
   "version": "3.10.9"
  },
  "orig_nbformat": 4,
  "vscode": {
   "interpreter": {
    "hash": "e9487f80b5c2735bbc4afc7489ff13f77596a62e20b78908b8eb2e8fe79271a4"
   }
  }
 },
 "nbformat": 4,
 "nbformat_minor": 2
}
