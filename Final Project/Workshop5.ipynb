{
 "cells": [
  {
   "cell_type": "code",
   "execution_count": 1,
   "metadata": {},
   "outputs": [],
   "source": [
    "import pandas as pd\n",
    "import numpy as np\n",
    "import sklearn\n",
    "import matplotlib.pyplot as plt"
   ]
  },
  {
   "cell_type": "code",
   "execution_count": 2,
   "metadata": {},
   "outputs": [],
   "source": [
    "Sales = pd.read_csv(\"sales.csv\")\n",
    "Features = pd.read_csv(\"features.csv\")\n",
    "Stores = pd.read_csv(\"stores.csv\")"
   ]
  },
  {
   "cell_type": "code",
   "execution_count": 3,
   "metadata": {},
   "outputs": [],
   "source": [
    "from sklearn.compose import ColumnTransformer\n",
    "from sklearn.preprocessing import OneHotEncoder\n",
    "from sklearn.preprocessing import OrdinalEncoder"
   ]
  },
  {
   "cell_type": "code",
   "execution_count": 4,
   "metadata": {},
   "outputs": [],
   "source": [
    "ct = ColumnTransformer(transformers=[(\"transformer\",OneHotEncoder(),[1])],remainder=\"passthrough\")\n",
    "Stores = ct.fit_transform(Stores)\n",
    "Stores = pd.DataFrame(Stores,columns=[\"A\",\"B\",\"C\",\"Store\",\"Size\"])\n",
    "Stores = Stores.drop([\"Store\"],axis=1)"
   ]
  },
  {
   "cell_type": "code",
   "execution_count": 5,
   "metadata": {},
   "outputs": [],
   "source": [
    "Sales = Sales.groupby(by=[\"Store\",\"Date\"]).sum()\n",
    "Sales.drop([\"Dept\",\"IsHoliday\"],axis=1,inplace=True)\n",
    "Sales = Sales.reset_index()\n",
    "Sales = Sales[\"Weekly_Sales\"]"
   ]
  },
  {
   "cell_type": "code",
   "execution_count": 6,
   "metadata": {},
   "outputs": [
    {
     "name": "stdout",
     "output_type": "stream",
     "text": [
      "142.0\n"
     ]
    },
    {
     "name": "stderr",
     "output_type": "stream",
     "text": [
      "c:\\Users\\hasan\\AppData\\Local\\Programs\\Python\\Python310\\lib\\site-packages\\sklearn\\base.py:409: UserWarning: X does not have valid feature names, but OrdinalEncoder was fitted with feature names\n",
      "  warnings.warn(\n"
     ]
    }
   ],
   "source": [
    "enc = OrdinalEncoder()\n",
    "enc = OrdinalEncoder()\n",
    "Features[[\"Date\"]] = enc.fit_transform(Features[[\"Date\"]])\n",
    "separation_date = enc.transform([[\"2012-10-26\"]])[0][0]\n",
    "print(separation_date)\n"
   ]
  },
  {
   "cell_type": "code",
   "execution_count": 7,
   "metadata": {},
   "outputs": [],
   "source": [
    "Features_without_sales = Features[Features[\"Date\"] >separation_date]\n",
    "Features = Features[Features[\"Date\"]<=separation_date]\n",
    "Features = Features.reset_index()\n",
    "Features=Features.drop([\"index\"],axis=1)\n",
    "Features_without_sales = Features_without_sales.reset_index()\n",
    "Features_without_sales = Features_without_sales.drop([\"index\"],axis=1)"
   ]
  },
  {
   "cell_type": "code",
   "execution_count": 8,
   "metadata": {},
   "outputs": [
    {
     "name": "stdout",
     "output_type": "stream",
     "text": [
      "0       0.000000\n",
      "1       1.000000\n",
      "2       1.584963\n",
      "3       2.000000\n",
      "4       2.321928\n",
      "          ...   \n",
      "6430    7.118941\n",
      "6431    7.129283\n",
      "6432    7.139551\n",
      "6433    7.149747\n",
      "6434    7.159871\n",
      "Name: Date, Length: 6435, dtype: float64\n"
     ]
    }
   ],
   "source": [
    "Features[\"Date\"] = np.log2(Features[\"Date\"]+1)\n",
    "print(Features[\"Date\"])"
   ]
  },
  {
   "cell_type": "code",
   "execution_count": 9,
   "metadata": {},
   "outputs": [
    {
     "name": "stdout",
     "output_type": "stream",
     "text": [
      "      Store      Date  Temperature  Fuel_Price  MarkDown1  MarkDown2  \\\n",
      "0         1  0.000000        42.31       2.572        NaN        NaN   \n",
      "1         1  1.000000        38.51       2.548        NaN        NaN   \n",
      "2         1  1.584963        39.93       2.514        NaN        NaN   \n",
      "3         1  2.000000        46.63       2.561        NaN        NaN   \n",
      "4         1  2.321928        46.50       2.625        NaN        NaN   \n",
      "...     ...       ...          ...         ...        ...        ...   \n",
      "6430     45  7.118941        64.88       3.997    4556.61      20.64   \n",
      "6431     45  7.129283        64.89       3.985    5046.74        NaN   \n",
      "6432     45  7.139551        54.47       4.000    1956.28        NaN   \n",
      "6433     45  7.149747        56.47       3.969    2004.02        NaN   \n",
      "6434     45  7.159871        58.85       3.882    4018.91      58.08   \n",
      "\n",
      "      MarkDown3  MarkDown4  MarkDown5         CPI  Unemployment  IsHoliday  \\\n",
      "0           NaN        NaN        NaN  211.096358         8.106      False   \n",
      "1           NaN        NaN        NaN  211.242170         8.106       True   \n",
      "2           NaN        NaN        NaN  211.289143         8.106      False   \n",
      "3           NaN        NaN        NaN  211.319643         8.106      False   \n",
      "4           NaN        NaN        NaN  211.350143         8.106      False   \n",
      "...         ...        ...        ...         ...           ...        ...   \n",
      "6430       1.50    1601.01    3288.25  192.013558         8.684      False   \n",
      "6431      18.82    2253.43    2340.01  192.170412         8.667      False   \n",
      "6432       7.89     599.32    3990.54  192.327265         8.667      False   \n",
      "6433       3.18     437.73    1537.49  192.330854         8.667      False   \n",
      "6434     100.00     211.94     858.33  192.308899         8.667      False   \n",
      "\n",
      "        A    B    C      Size  \n",
      "0     1.0  0.0  0.0  151315.0  \n",
      "1     1.0  0.0  0.0  151315.0  \n",
      "2     1.0  0.0  0.0  151315.0  \n",
      "3     1.0  0.0  0.0  151315.0  \n",
      "4     1.0  0.0  0.0  151315.0  \n",
      "...   ...  ...  ...       ...  \n",
      "6430  0.0  1.0  0.0  118221.0  \n",
      "6431  0.0  1.0  0.0  118221.0  \n",
      "6432  0.0  1.0  0.0  118221.0  \n",
      "6433  0.0  1.0  0.0  118221.0  \n",
      "6434  0.0  1.0  0.0  118221.0  \n",
      "\n",
      "[6435 rows x 16 columns]\n"
     ]
    }
   ],
   "source": [
    "lst = []\n",
    "store_columns = Stores.columns\n",
    "columns = list(Features.columns) + list(store_columns)\n",
    "Stores = Stores.values\n",
    "for i in Features.values:\n",
    "    i = list(i)\n",
    "    i.extend(Stores[i[0]-1])\n",
    "    lst.append(i)\n",
    "Features = pd.DataFrame(lst,columns=columns)\n",
    "print(Features)"
   ]
  },
  {
   "cell_type": "code",
   "execution_count": 10,
   "metadata": {},
   "outputs": [
    {
     "name": "stdout",
     "output_type": "stream",
     "text": [
      "      Store   Date  Temperature  Fuel_Price  MarkDown1  MarkDown2  MarkDown3  \\\n",
      "0         1  143.0        55.32       3.386    6766.44    5147.70      50.82   \n",
      "1         1  144.0        61.24       3.314   11421.32    3370.89      40.28   \n",
      "2         1  145.0        52.92       3.252    9696.28     292.10     103.78   \n",
      "3         1  146.0        56.23       3.211     883.59       4.17   74910.32   \n",
      "4         1  147.0        52.34       3.207    2460.03        NaN    3838.35   \n",
      "...     ...    ...          ...         ...        ...        ...        ...   \n",
      "1750     45  177.0        76.05       3.639    4842.29     975.03       3.00   \n",
      "1751     45  178.0        77.50       3.614    9090.48    2268.58     582.74   \n",
      "1752     45  179.0        79.37       3.614    3789.94    1827.31      85.72   \n",
      "1753     45  180.0        82.84       3.737    2961.49    1047.07     204.19   \n",
      "1754     45  181.0        76.06       3.804     212.02     851.73       2.06   \n",
      "\n",
      "      MarkDown4  MarkDown5         CPI  Unemployment  IsHoliday    A    B  \\\n",
      "0       3639.90    2737.42  223.462779         6.573      False  1.0  0.0   \n",
      "1       4646.79    6154.16  223.481307         6.573      False  1.0  0.0   \n",
      "2       1133.15    6612.69  223.512911         6.573      False  1.0  0.0   \n",
      "3        209.91     303.32  223.561947         6.573       True  1.0  0.0   \n",
      "4        150.57    6966.34  223.610984         6.573      False  1.0  0.0   \n",
      "...         ...        ...         ...           ...        ...  ...  ...   \n",
      "1750    2449.97    3169.69         NaN           NaN      False  0.0  1.0   \n",
      "1751    5797.47    1514.93         NaN           NaN      False  0.0  1.0   \n",
      "1752     744.84    2150.36         NaN           NaN      False  0.0  1.0   \n",
      "1753     363.00    1059.46         NaN           NaN      False  0.0  1.0   \n",
      "1754      10.88    1864.57         NaN           NaN      False  0.0  1.0   \n",
      "\n",
      "        C      Size  \n",
      "0     0.0  151315.0  \n",
      "1     0.0  151315.0  \n",
      "2     0.0  151315.0  \n",
      "3     0.0  151315.0  \n",
      "4     0.0  151315.0  \n",
      "...   ...       ...  \n",
      "1750  0.0  118221.0  \n",
      "1751  0.0  118221.0  \n",
      "1752  0.0  118221.0  \n",
      "1753  0.0  118221.0  \n",
      "1754  0.0  118221.0  \n",
      "\n",
      "[1755 rows x 16 columns]\n"
     ]
    }
   ],
   "source": [
    "lst = []\n",
    "columns = list(Features_without_sales.columns) + list(store_columns)\n",
    "for i in Features_without_sales.values:\n",
    "    i = list(i)\n",
    "    i.extend(Stores[i[0]-1])\n",
    "    lst.append(i)\n",
    "Features_without_sales = pd.DataFrame(lst,columns=columns)\n",
    "Features_without_sales = pd.DataFrame(lst,columns=columns)\n",
    "\n",
    "print(Features_without_sales)"
   ]
  },
  {
   "cell_type": "code",
   "execution_count": 11,
   "metadata": {},
   "outputs": [
    {
     "name": "stdout",
     "output_type": "stream",
     "text": [
      "Store              0\n",
      "Date               0\n",
      "Temperature        0\n",
      "Fuel_Price         0\n",
      "MarkDown1       4155\n",
      "MarkDown2       4798\n",
      "MarkDown3       4389\n",
      "MarkDown4       4470\n",
      "MarkDown5       4140\n",
      "CPI                0\n",
      "Unemployment       0\n",
      "IsHoliday          0\n",
      "A                  0\n",
      "B                  0\n",
      "C                  0\n",
      "Size               0\n",
      "dtype: int64\n"
     ]
    }
   ],
   "source": [
    "print(pd.isnull(Features).sum())"
   ]
  },
  {
   "cell_type": "code",
   "execution_count": 12,
   "metadata": {},
   "outputs": [
    {
     "data": {
      "image/png": "[encoded data removed]",
      "text/plain": [
       "<Figure size 640x480 with 1 Axes>"
      ]
     },
     "metadata": {},
     "output_type": "display_data"
    },
    {
     "data": {
      "image/png": "[encoded data removed]",
      "text/plain": [
       "<Figure size 640x480 with 1 Axes>"
      ]
     },
     "metadata": {},
     "output_type": "display_data"
    },
    {
     "data": {
      "image/png": "[encoded data removed]",
      "text/plain": [
       "<Figure size 640x480 with 1 Axes>"
      ]
     },
     "metadata": {},
     "output_type": "display_data"
    },
    {
     "data": {
      "image/png": "[encoded data removed]",
      "text/plain": [
       "<Figure size 640x480 with 1 Axes>"
      ]
     },
     "metadata": {},
     "output_type": "display_data"
    },
    {
     "data": {
      "image/png": "[encoded data removed]",
      "text/plain": [
       "<Figure size 640x480 with 1 Axes>"
      ]
     },
     "metadata": {},
     "output_type": "display_data"
    }
   ],
   "source": [
    "Features[\"Sales\"] = Sales\n",
    "Features_for_Store1= Features[Features[\"Store\"] == 22]\n",
    "for i in [\"MarkDown1\",\"MarkDown2\",\"MarkDown3\",\"MarkDown4\",\"MarkDown5\"]:\n",
    "    plt.xlabel(i)\n",
    "    plt.ylabel(\"Date\")\n",
    "    plt.scatter(Features_for_Store1[i],Features_for_Store1[\"Date\"])\n",
    "    plt.show()"
   ]
  },
  {
   "cell_type": "code",
   "execution_count": 13,
   "metadata": {},
   "outputs": [],
   "source": [
    "Features_without_sales=Features_without_sales.drop([\"Store\"],axis=1)\n",
    "Features=Features.drop([\"Store\"],axis=1)"
   ]
  },
  {
   "cell_type": "code",
   "execution_count": 14,
   "metadata": {},
   "outputs": [],
   "source": [
    "Y = Features[\"Sales\"]\n",
    "Features = Features.drop([\"Sales\"],axis=1)"
   ]
  },
  {
   "cell_type": "code",
   "execution_count": 15,
   "metadata": {},
   "outputs": [],
   "source": [
    "from sklearn.preprocessing import StandardScaler\n",
    "scale = StandardScaler()"
   ]
  },
  {
   "cell_type": "code",
   "execution_count": 16,
   "metadata": {},
   "outputs": [
    {
     "name": "stdout",
     "output_type": "stream",
     "text": [
      "[[ 0.11594649  0.52357514  0.24596863 ... -0.78971397  2.56067315\n",
      "  -1.37128733]\n",
      " [ 0.30965807  0.14412476  0.74977934 ... -0.78971397 -0.39052231\n",
      "   1.42246083]\n",
      " [ 0.40823608  0.9524954   1.05075718 ...  1.26628125 -0.39052231\n",
      "  -0.18135755]\n",
      " ...\n",
      " [-0.51923868 -0.02113729 -1.12151761 ... -0.78971397 -0.39052231\n",
      "   1.17251121]\n",
      " [ 0.81637662  0.32787007  1.87953671 ...  1.26628125 -0.39052231\n",
      "  -0.27598823]\n",
      " [ 0.95366049  1.63528862  0.98314621 ... -0.78971397  2.56067315\n",
      "  -1.42345045]]\n"
     ]
    }
   ],
   "source": [
    "from sklearn.model_selection import train_test_split\n",
    "X_train,X_test,y_train,y_test = train_test_split(Features,Y,random_state=3,test_size=0.3)\n",
    "from sklearn.impute import SimpleImputer\n",
    "imputer = SimpleImputer()\n",
    "X_train=imputer.fit_transform(X_train)\n",
    "X_train = scale.fit_transform(X_train)\n",
    "print(X_train)"
   ]
  },
  {
   "cell_type": "code",
   "execution_count": 17,
   "metadata": {},
   "outputs": [
    {
     "data": {
      "text/html": [
       "<style>#sk-container-id-1 {color: black;background-color: white;}#sk-container-id-1 pre{padding: 0;}#sk-container-id-1 div.sk-toggleable {background-color: white;}#sk-container-id-1 label.sk-toggleable__label {cursor: pointer;display: block;width: 100%;margin-bottom: 0;padding: 0.3em;box-sizing: border-box;text-align: center;}#sk-container-id-1 label.sk-toggleable__label-arrow:before {content: \"▸\";float: left;margin-right: 0.25em;color: #696969;}#sk-container-id-1 label.sk-toggleable__label-arrow:hover:before {color: black;}#sk-container-id-1 div.sk-estimator:hover label.sk-toggleable__label-arrow:before {color: black;}#sk-container-id-1 div.sk-toggleable__content {max-height: 0;max-width: 0;overflow: hidden;text-align: left;background-color: #f0f8ff;}#sk-container-id-1 div.sk-toggleable__content pre {margin: 0.2em;color: black;border-radius: 0.25em;background-color: #f0f8ff;}#sk-container-id-1 input.sk-toggleable__control:checked~div.sk-toggleable__content {max-height: 200px;max-width: 100%;overflow: auto;}#sk-container-id-1 input.sk-toggleable__control:checked~label.sk-toggleable__label-arrow:before {content: \"▾\";}#sk-container-id-1 div.sk-estimator input.sk-toggleable__control:checked~label.sk-toggleable__label {background-color: #d4ebff;}#sk-container-id-1 div.sk-label input.sk-toggleable__control:checked~label.sk-toggleable__label {background-color: #d4ebff;}#sk-container-id-1 input.sk-hidden--visually {border: 0;clip: rect(1px 1px 1px 1px);clip: rect(1px, 1px, 1px, 1px);height: 1px;margin: -1px;overflow: hidden;padding: 0;position: absolute;width: 1px;}#sk-container-id-1 div.sk-estimator {font-family: monospace;background-color: #f0f8ff;border: 1px dotted black;border-radius: 0.25em;box-sizing: border-box;margin-bottom: 0.5em;}#sk-container-id-1 div.sk-estimator:hover {background-color: #d4ebff;}#sk-container-id-1 div.sk-parallel-item::after {content: \"\";width: 100%;border-bottom: 1px solid gray;flex-grow: 1;}#sk-container-id-1 div.sk-label:hover label.sk-toggleable__label {background-color: #d4ebff;}#sk-container-id-1 div.sk-serial::before {content: \"\";position: absolute;border-left: 1px solid gray;box-sizing: border-box;top: 0;bottom: 0;left: 50%;z-index: 0;}#sk-container-id-1 div.sk-serial {display: flex;flex-direction: column;align-items: center;background-color: white;padding-right: 0.2em;padding-left: 0.2em;position: relative;}#sk-container-id-1 div.sk-item {position: relative;z-index: 1;}#sk-container-id-1 div.sk-parallel {display: flex;align-items: stretch;justify-content: center;background-color: white;position: relative;}#sk-container-id-1 div.sk-item::before, #sk-container-id-1 div.sk-parallel-item::before {content: \"\";position: absolute;border-left: 1px solid gray;box-sizing: border-box;top: 0;bottom: 0;left: 50%;z-index: -1;}#sk-container-id-1 div.sk-parallel-item {display: flex;flex-direction: column;z-index: 1;position: relative;background-color: white;}#sk-container-id-1 div.sk-parallel-item:first-child::after {align-self: flex-end;width: 50%;}#sk-container-id-1 div.sk-parallel-item:last-child::after {align-self: flex-start;width: 50%;}#sk-container-id-1 div.sk-parallel-item:only-child::after {width: 0;}#sk-container-id-1 div.sk-dashed-wrapped {border: 1px dashed gray;margin: 0 0.4em 0.5em 0.4em;box-sizing: border-box;padding-bottom: 0.4em;background-color: white;}#sk-container-id-1 div.sk-label label {font-family: monospace;font-weight: bold;display: inline-block;line-height: 1.2em;}#sk-container-id-1 div.sk-label-container {text-align: center;}#sk-container-id-1 div.sk-container {/* jupyter's `normalize.less` sets `[hidden] { display: none; }` but bootstrap.min.css set `[hidden] { display: none !important; }` so we also need the `!important` here to be able to override the default hidden behavior on the sphinx rendered scikit-learn.org. See: https://github.com/scikit-learn/scikit-learn/issues/21755 */display: inline-block !important;position: relative;}#sk-container-id-1 div.sk-text-repr-fallback {display: none;}</style><div id=\"sk-container-id-1\" class=\"sk-top-container\"><div class=\"sk-text-repr-fallback\"><pre>RandomForestRegressor()</pre><b>In a Jupyter environment, please rerun this cell to show the HTML representation or trust the notebook. <br />On GitHub, the HTML representation is unable to render, please try loading this page with nbviewer.org.</b></div><div class=\"sk-container\" hidden><div class=\"sk-item\"><div class=\"sk-estimator sk-toggleable\"><input class=\"sk-toggleable__control sk-hidden--visually\" id=\"sk-estimator-id-1\" type=\"checkbox\" checked><label for=\"sk-estimator-id-1\" class=\"sk-toggleable__label sk-toggleable__label-arrow\">RandomForestRegressor</label><div class=\"sk-toggleable__content\"><pre>RandomForestRegressor()</pre></div></div></div></div></div>"
      ],
      "text/plain": [
       "RandomForestRegressor()"
      ]
     },
     "execution_count": 17,
     "metadata": {},
     "output_type": "execute_result"
    }
   ],
   "source": [
    "from sklearn.ensemble import RandomForestRegressor\n",
    "random_forest = RandomForestRegressor()\n",
    "random_forest.fit(X_train,y_train)"
   ]
  },
  {
   "cell_type": "code",
   "execution_count": 18,
   "metadata": {},
   "outputs": [
    {
     "data": {
      "text/html": [
       "<style>#sk-container-id-2 {color: black;background-color: white;}#sk-container-id-2 pre{padding: 0;}#sk-container-id-2 div.sk-toggleable {background-color: white;}#sk-container-id-2 label.sk-toggleable__label {cursor: pointer;display: block;width: 100%;margin-bottom: 0;padding: 0.3em;box-sizing: border-box;text-align: center;}#sk-container-id-2 label.sk-toggleable__label-arrow:before {content: \"▸\";float: left;margin-right: 0.25em;color: #696969;}#sk-container-id-2 label.sk-toggleable__label-arrow:hover:before {color: black;}#sk-container-id-2 div.sk-estimator:hover label.sk-toggleable__label-arrow:before {color: black;}#sk-container-id-2 div.sk-toggleable__content {max-height: 0;max-width: 0;overflow: hidden;text-align: left;background-color: #f0f8ff;}#sk-container-id-2 div.sk-toggleable__content pre {margin: 0.2em;color: black;border-radius: 0.25em;background-color: #f0f8ff;}#sk-container-id-2 input.sk-toggleable__control:checked~div.sk-toggleable__content {max-height: 200px;max-width: 100%;overflow: auto;}#sk-container-id-2 input.sk-toggleable__control:checked~label.sk-toggleable__label-arrow:before {content: \"▾\";}#sk-container-id-2 div.sk-estimator input.sk-toggleable__control:checked~label.sk-toggleable__label {background-color: #d4ebff;}#sk-container-id-2 div.sk-label input.sk-toggleable__control:checked~label.sk-toggleable__label {background-color: #d4ebff;}#sk-container-id-2 input.sk-hidden--visually {border: 0;clip: rect(1px 1px 1px 1px);clip: rect(1px, 1px, 1px, 1px);height: 1px;margin: -1px;overflow: hidden;padding: 0;position: absolute;width: 1px;}#sk-container-id-2 div.sk-estimator {font-family: monospace;background-color: #f0f8ff;border: 1px dotted black;border-radius: 0.25em;box-sizing: border-box;margin-bottom: 0.5em;}#sk-container-id-2 div.sk-estimator:hover {background-color: #d4ebff;}#sk-container-id-2 div.sk-parallel-item::after {content: \"\";width: 100%;border-bottom: 1px solid gray;flex-grow: 1;}#sk-container-id-2 div.sk-label:hover label.sk-toggleable__label {background-color: #d4ebff;}#sk-container-id-2 div.sk-serial::before {content: \"\";position: absolute;border-left: 1px solid gray;box-sizing: border-box;top: 0;bottom: 0;left: 50%;z-index: 0;}#sk-container-id-2 div.sk-serial {display: flex;flex-direction: column;align-items: center;background-color: white;padding-right: 0.2em;padding-left: 0.2em;position: relative;}#sk-container-id-2 div.sk-item {position: relative;z-index: 1;}#sk-container-id-2 div.sk-parallel {display: flex;align-items: stretch;justify-content: center;background-color: white;position: relative;}#sk-container-id-2 div.sk-item::before, #sk-container-id-2 div.sk-parallel-item::before {content: \"\";position: absolute;border-left: 1px solid gray;box-sizing: border-box;top: 0;bottom: 0;left: 50%;z-index: -1;}#sk-container-id-2 div.sk-parallel-item {display: flex;flex-direction: column;z-index: 1;position: relative;background-color: white;}#sk-container-id-2 div.sk-parallel-item:first-child::after {align-self: flex-end;width: 50%;}#sk-container-id-2 div.sk-parallel-item:last-child::after {align-self: flex-start;width: 50%;}#sk-container-id-2 div.sk-parallel-item:only-child::after {width: 0;}#sk-container-id-2 div.sk-dashed-wrapped {border: 1px dashed gray;margin: 0 0.4em 0.5em 0.4em;box-sizing: border-box;padding-bottom: 0.4em;background-color: white;}#sk-container-id-2 div.sk-label label {font-family: monospace;font-weight: bold;display: inline-block;line-height: 1.2em;}#sk-container-id-2 div.sk-label-container {text-align: center;}#sk-container-id-2 div.sk-container {/* jupyter's `normalize.less` sets `[hidden] { display: none; }` but bootstrap.min.css set `[hidden] { display: none !important; }` so we also need the `!important` here to be able to override the default hidden behavior on the sphinx rendered scikit-learn.org. See: https://github.com/scikit-learn/scikit-learn/issues/21755 */display: inline-block !important;position: relative;}#sk-container-id-2 div.sk-text-repr-fallback {display: none;}</style><div id=\"sk-container-id-2\" class=\"sk-top-container\"><div class=\"sk-text-repr-fallback\"><pre>XGBRegressor(base_score=None, booster=None, callbacks=None,\n",
       "             colsample_bylevel=None, colsample_bynode=None,\n",
       "             colsample_bytree=None, early_stopping_rounds=None,\n",
       "             enable_categorical=False, eval_metric=None, feature_types=None,\n",
       "             gamma=None, gpu_id=None, grow_policy=None, importance_type=None,\n",
       "             interaction_constraints=None, learning_rate=None, max_bin=None,\n",
       "             max_cat_threshold=None, max_cat_to_onehot=None,\n",
       "             max_delta_step=None, max_depth=None, max_leaves=None,\n",
       "             min_child_weight=None, missing=nan, monotone_constraints=None,\n",
       "             n_estimators=100, n_jobs=None, num_parallel_tree=None,\n",
       "             predictor=None, random_state=None, ...)</pre><b>In a Jupyter environment, please rerun this cell to show the HTML representation or trust the notebook. <br />On GitHub, the HTML representation is unable to render, please try loading this page with nbviewer.org.</b></div><div class=\"sk-container\" hidden><div class=\"sk-item\"><div class=\"sk-estimator sk-toggleable\"><input class=\"sk-toggleable__control sk-hidden--visually\" id=\"sk-estimator-id-2\" type=\"checkbox\" checked><label for=\"sk-estimator-id-2\" class=\"sk-toggleable__label sk-toggleable__label-arrow\">XGBRegressor</label><div class=\"sk-toggleable__content\"><pre>XGBRegressor(base_score=None, booster=None, callbacks=None,\n",
       "             colsample_bylevel=None, colsample_bynode=None,\n",
       "             colsample_bytree=None, early_stopping_rounds=None,\n",
       "             enable_categorical=False, eval_metric=None, feature_types=None,\n",
       "             gamma=None, gpu_id=None, grow_policy=None, importance_type=None,\n",
       "             interaction_constraints=None, learning_rate=None, max_bin=None,\n",
       "             max_cat_threshold=None, max_cat_to_onehot=None,\n",
       "             max_delta_step=None, max_depth=None, max_leaves=None,\n",
       "             min_child_weight=None, missing=nan, monotone_constraints=None,\n",
       "             n_estimators=100, n_jobs=None, num_parallel_tree=None,\n",
       "             predictor=None, random_state=None, ...)</pre></div></div></div></div></div>"
      ],
      "text/plain": [
       "XGBRegressor(base_score=None, booster=None, callbacks=None,\n",
       "             colsample_bylevel=None, colsample_bynode=None,\n",
       "             colsample_bytree=None, early_stopping_rounds=None,\n",
       "             enable_categorical=False, eval_metric=None, feature_types=None,\n",
       "             gamma=None, gpu_id=None, grow_policy=None, importance_type=None,\n",
       "             interaction_constraints=None, learning_rate=None, max_bin=None,\n",
       "             max_cat_threshold=None, max_cat_to_onehot=None,\n",
       "             max_delta_step=None, max_depth=None, max_leaves=None,\n",
       "             min_child_weight=None, missing=nan, monotone_constraints=None,\n",
       "             n_estimators=100, n_jobs=None, num_parallel_tree=None,\n",
       "             predictor=None, random_state=None, ...)"
      ]
     },
     "execution_count": 18,
     "metadata": {},
     "output_type": "execute_result"
    }
   ],
   "source": [
    "from xgboost import XGBRegressor\n",
    "xgboost = XGBRegressor()\n",
    "xgboost.fit(X_train,y_train)"
   ]
  },
  {
   "cell_type": "code",
   "execution_count": 19,
   "metadata": {},
   "outputs": [],
   "source": [
    "X_test = imputer.transform(X_test)\n",
    "X_test = scale.transform(X_test)"
   ]
  },
  {
   "cell_type": "code",
   "execution_count": 20,
   "metadata": {},
   "outputs": [
    {
     "data": {
      "text/plain": [
       "0.9756260243358488"
      ]
     },
     "execution_count": 20,
     "metadata": {},
     "output_type": "execute_result"
    }
   ],
   "source": [
    "xgboost.score(X_test,y_test)"
   ]
  },
  {
   "cell_type": "code",
   "execution_count": 21,
   "metadata": {},
   "outputs": [
    {
     "data": {
      "text/plain": [
       "0.9371120785233188"
      ]
     },
     "execution_count": 21,
     "metadata": {},
     "output_type": "execute_result"
    }
   ],
   "source": [
    "random_forest.score(X_test,y_test)"
   ]
  },
  {
   "cell_type": "code",
   "execution_count": 22,
   "metadata": {},
   "outputs": [
    {
     "name": "stdout",
     "output_type": "stream",
     "text": [
      "Xgboost score: 0.9756260243358488\n",
      "Random Forest: 0.9371120785233188\n"
     ]
    }
   ],
   "source": [
    "from sklearn.metrics import r2_score\n",
    "preds_xgb = xgboost.predict(X_test)\n",
    "print(\"Xgboost score: \"+str(r2_score(y_test, preds_xgb)))\n",
    "preds_random_forest = random_forest.predict(X_test)\n",
    "print(\"Random Forest: \"+str(r2_score(y_test, preds_random_forest)))"
   ]
  },
  {
   "cell_type": "code",
   "execution_count": 23,
   "metadata": {},
   "outputs": [
    {
     "name": "stdout",
     "output_type": "stream",
     "text": [
      "          Date  Temperature  Fuel_Price  MarkDown1  MarkDown2  MarkDown3  \\\n",
      "0    -4.234181    -0.999663   -1.719111   0.035874   0.050138  -0.041602   \n",
      "1    -3.497731    -1.206240   -1.771455   0.035874   0.050138  -0.041602   \n",
      "2    -3.066936    -1.129045   -1.845609   0.035874   0.050138  -0.041602   \n",
      "3    -2.761281    -0.764817   -1.743102   0.035874   0.050138  -0.041602   \n",
      "4    -2.524198    -0.771884   -1.603518   0.035874   0.050138  -0.041602   \n",
      "...        ...          ...         ...        ...        ...        ...   \n",
      "6430  1.008561     0.227299    1.388812  -0.461218  -0.667091  -0.276117   \n",
      "6431  1.016177     0.227843    1.362640  -0.355241   0.050138  -0.273104   \n",
      "6432  1.023739    -0.338614    1.395355  -1.023470   0.050138  -0.275006   \n",
      "6433  1.031248    -0.229889    1.327744  -1.013148   0.050138  -0.275825   \n",
      "6434  1.038704    -0.100507    1.137997  -0.577482  -0.658695  -0.258985   \n",
      "\n",
      "      MarkDown4  MarkDown5       CPI  Unemployment  IsHoliday         A  \\\n",
      "0      0.015434  -0.036463  1.016702      0.047896  -0.272344  1.033418   \n",
      "1      0.015434  -0.036463  1.020416      0.047896   3.671827  1.033418   \n",
      "2      0.015434  -0.036463  1.021612      0.047896  -0.272344  1.033418   \n",
      "3      0.015434  -0.036463  1.022389      0.047896  -0.272344  1.033418   \n",
      "4      0.015434  -0.036463  1.023166      0.047896  -0.272344  1.033418   \n",
      "...         ...        ...       ...           ...        ...       ...   \n",
      "6430  -0.508779  -0.335471  0.530717      0.356508  -0.272344 -0.967663   \n",
      "6431  -0.307935  -0.582663  0.534712      0.347431  -0.272344 -0.967663   \n",
      "6432  -0.817144  -0.152395  0.538706      0.347431  -0.272344 -0.967663   \n",
      "6433  -0.866889  -0.791867  0.538798      0.347431  -0.272344 -0.967663   \n",
      "6434  -0.936397  -0.968913  0.538239      0.347431  -0.272344 -0.967663   \n",
      "\n",
      "             B         C      Size  \n",
      "0    -0.789714 -0.390522  0.342077  \n",
      "1    -0.789714 -0.390522  0.342077  \n",
      "2    -0.789714 -0.390522  0.342077  \n",
      "3    -0.789714 -0.390522  0.342077  \n",
      "4    -0.789714 -0.390522  0.342077  \n",
      "...        ...       ...       ...  \n",
      "6430  1.266281 -0.390522 -0.181358  \n",
      "6431  1.266281 -0.390522 -0.181358  \n",
      "6432  1.266281 -0.390522 -0.181358  \n",
      "6433  1.266281 -0.390522 -0.181358  \n",
      "6434  1.266281 -0.390522 -0.181358  \n",
      "\n",
      "[6435 rows x 15 columns]\n"
     ]
    }
   ],
   "source": [
    "from sklearn.impute import SimpleImputer\n",
    "imputer = SimpleImputer()\n",
    "cols = Features.columns\n",
    "Features=imputer.fit_transform(Features)\n",
    "Features = scale.transform(Features)\n",
    "Features = pd.DataFrame(Features,columns=cols)\n",
    "print(Features)"
   ]
  },
  {
   "cell_type": "code",
   "execution_count": 24,
   "metadata": {},
   "outputs": [
    {
     "name": "stdout",
     "output_type": "stream",
     "text": [
      "[ 0.6793103   0.57526651 -0.58337168 -0.86497726  0.26428455]\n"
     ]
    }
   ],
   "source": [
    "from sklearn.model_selection import cross_val_score\n",
    "model3 = XGBRegressor()\n",
    "sklearn.metrics.get_scorer_names()\n",
    "print(cross_val_score(model3,Features,Sales))"
   ]
  },
  {
   "cell_type": "code",
   "execution_count": null,
   "metadata": {},
   "outputs": [],
   "source": []
  }
 ],
 "metadata": {
  "kernelspec": {
   "display_name": "Python 3",
   "language": "python",
   "name": "python3"
  },
  "language_info": {
   "codemirror_mode": {
    "name": "ipython",
    "version": 3
   },
   "file_extension": ".py",
   "mimetype": "text/x-python",
   "name": "python",
   "nbconvert_exporter": "python",
   "pygments_lexer": "ipython3",
   "version": "3.10.9"
  },
  "orig_nbformat": 4,
  "vscode": {
   "interpreter": {
    "hash": "e9487f80b5c2735bbc4afc7489ff13f77596a62e20b78908b8eb2e8fe79271a4"
   }
  }
 },
 "nbformat": 4,
 "nbformat_minor": 2
}
