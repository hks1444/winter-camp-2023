{
  "cells": [
    {
      "cell_type": "code",
      "execution_count": 1,
      "id": "8a76ada4",
      "metadata": {
        "id": "8a76ada4"
      },
      "outputs": [],
      "source": [
        "import warnings\n",
        "warnings.filterwarnings('ignore')\n",
        "\n",
        "import torch\n",
        "from torch import nn\n",
        "import torch.nn.functional as F\n",
        "import torch.optim as optim\n",
        "\n",
        "from sklearn.datasets import make_moons\n",
        "from sklearn.preprocessing import StandardScaler\n",
        "from sklearn.model_selection import train_test_split\n",
        "\n",
        "import matplotlib.pyplot as plt\n",
        "from matplotlib.colors import ListedColormap\n",
        "\n",
        "import numpy as np\n",
        "\n",
        "import torchvision.datasets as datasets \n",
        "import torchvision.transforms as transforms\n",
        "import time"
      ]
    },
    {
      "cell_type": "code",
      "execution_count": 2,
      "id": "69adff80",
      "metadata": {
        "colab": {
          "base_uri": "https://localhost:8080/"
        },
        "id": "69adff80",
        "outputId": "384019fd-8766-4471-bed9-8a83d8cb048e"
      },
      "outputs": [
        {
          "name": "stdout",
          "output_type": "stream",
          "text": [
            "Using cpu device\n"
          ]
        }
      ],
      "source": [
        "device = \"cuda\" if torch.cuda.is_available() else \"cpu\"\n",
        "print(\"Using {} device\".format(device))"
      ]
    },
    {
      "cell_type": "markdown",
      "id": "288c9bfd",
      "metadata": {
        "id": "288c9bfd"
      },
      "source": [
        "# MNIST HAND WRITTEN NUMBER"
      ]
    },
    {
      "cell_type": "markdown",
      "id": "3a1f3898",
      "metadata": {
        "id": "3a1f3898"
      },
      "source": [
        "Define various neural network structures with tanh, sigmoid, linear, relu, define number of neurons in each layer and forward the input data to one-hot-coding for numbers 0-9. **You are NOT expected to use Convolution Layers!** <br>\n",
        "*Hint: Input files are 28x28 images.*\n",
        "<br>\n",
        "*Hint: Use .view method in the forward function to make a column vector from 28x28 image*\n"
      ]
    },
    {
      "cell_type": "markdown",
      "id": "79319f0d",
      "metadata": {
        "id": "79319f0d"
      },
      "source": [
        "In this assignment, you are expected to train your own Neural Network model. You are free to refer to resources online and bogaziciai github repository while constructing your neural network.  "
      ]
    },
    {
      "cell_type": "code",
      "execution_count": 3,
      "id": "6a93ca5f",
      "metadata": {
        "id": "6a93ca5f"
      },
      "outputs": [
        {
          "name": "stdout",
          "output_type": "stream",
          "text": [
            "Downloading http://yann.lecun.com/exdb/mnist/train-images-idx3-ubyte.gz\n"
          ]
        },
        {
          "name": "stderr",
          "output_type": "stream",
          "text": [
            "5.6%"
          ]
        },
        {
          "name": "stdout",
          "output_type": "stream",
          "text": [
            "Downloading http://yann.lecun.com/exdb/mnist/train-images-idx3-ubyte.gz to ./data\\MNIST\\raw\\train-images-idx3-ubyte.gz\n"
          ]
        },
        {
          "name": "stderr",
          "output_type": "stream",
          "text": [
            "100.0%\n"
          ]
        },
        {
          "name": "stdout",
          "output_type": "stream",
          "text": [
            "Extracting ./data\\MNIST\\raw\\train-images-idx3-ubyte.gz to ./data\\MNIST\\raw\n",
            "\n",
            "Downloading http://yann.lecun.com/exdb/mnist/train-labels-idx1-ubyte.gz\n",
            "Downloading http://yann.lecun.com/exdb/mnist/train-labels-idx1-ubyte.gz to ./data\\MNIST\\raw\\train-labels-idx1-ubyte.gz\n"
          ]
        },
        {
          "name": "stderr",
          "output_type": "stream",
          "text": [
            "100.0%\n"
          ]
        },
        {
          "name": "stdout",
          "output_type": "stream",
          "text": [
            "Extracting ./data\\MNIST\\raw\\train-labels-idx1-ubyte.gz to ./data\\MNIST\\raw\n",
            "\n",
            "Downloading http://yann.lecun.com/exdb/mnist/t10k-images-idx3-ubyte.gz\n"
          ]
        },
        {
          "name": "stderr",
          "output_type": "stream",
          "text": [
            "11.9%"
          ]
        },
        {
          "name": "stdout",
          "output_type": "stream",
          "text": [
            "Downloading http://yann.lecun.com/exdb/mnist/t10k-images-idx3-ubyte.gz to ./data\\MNIST\\raw\\t10k-images-idx3-ubyte.gz\n"
          ]
        },
        {
          "name": "stderr",
          "output_type": "stream",
          "text": [
            "100.0%\n"
          ]
        },
        {
          "name": "stdout",
          "output_type": "stream",
          "text": [
            "Extracting ./data\\MNIST\\raw\\t10k-images-idx3-ubyte.gz to ./data\\MNIST\\raw\n",
            "\n",
            "Downloading http://yann.lecun.com/exdb/mnist/t10k-labels-idx1-ubyte.gz\n",
            "Downloading http://yann.lecun.com/exdb/mnist/t10k-labels-idx1-ubyte.gz to ./data\\MNIST\\raw\\t10k-labels-idx1-ubyte.gz\n"
          ]
        },
        {
          "name": "stderr",
          "output_type": "stream",
          "text": [
            "100.0%"
          ]
        },
        {
          "name": "stdout",
          "output_type": "stream",
          "text": [
            "Extracting ./data\\MNIST\\raw\\t10k-labels-idx1-ubyte.gz to ./data\\MNIST\\raw\n",
            "\n"
          ]
        },
        {
          "name": "stderr",
          "output_type": "stream",
          "text": [
            "\n"
          ]
        }
      ],
      "source": [
        "## Normalization and create a tensor for a training/test set \n",
        "\n",
        "transform = transforms.Compose([transforms.ToTensor(), transforms.Normalize((0.5,), (0.5,))])\n",
        "\n",
        "\n",
        "mnist_trainset = datasets.MNIST(root='./data', train=True, download=True, transform=transform)\n",
        "mnist_testset = datasets.MNIST(root='./data', train=False, download=True, transform=transform)"
      ]
    },
    {
      "cell_type": "code",
      "execution_count": null,
      "id": "6kehzKuNu99c",
      "metadata": {
        "id": "6kehzKuNu99c"
      },
      "outputs": [],
      "source": []
    },
    {
      "cell_type": "markdown",
      "id": "a8ad7237",
      "metadata": {
        "id": "a8ad7237"
      },
      "source": [
        "### Step 1\n",
        "\n",
        "Defining the structure of the neural network."
      ]
    },
    {
      "cell_type": "code",
      "execution_count": 4,
      "id": "d7c8f956",
      "metadata": {
        "id": "d7c8f956"
      },
      "outputs": [],
      "source": [
        "class Net(nn.Module):\n",
        "    def __init__(self):\n",
        "        super(Net,self).__init__()\n",
        "        self.layer1 = nn.Linear(28*28, 1000)\n",
        "        self.layer2 = nn.Linear(1000, 100)\n",
        "        self.out = nn.Linear(100, 10)\n",
        "    def forward(self, x): #convert + flatten\n",
        "        x = F.relu(self.layer1(x))\n",
        "        x = F.sigmoid(self.layer2(x))\n",
        "        return F.softmax(self.out(x))\n",
        "\n",
        "        # view() reshapes the tensor without copying memory, similar to numpy's reshape().\n",
        "        \n",
        "        # forward propagation"
      ]
    },
    {
      "cell_type": "code",
      "execution_count": 5,
      "id": "g6kAaYX14W10",
      "metadata": {
        "id": "g6kAaYX14W10"
      },
      "outputs": [],
      "source": [
        "model=Net()"
      ]
    },
    {
      "cell_type": "markdown",
      "id": "6c8441ba",
      "metadata": {
        "id": "6c8441ba"
      },
      "source": [
        "### Step 2\n",
        "\n",
        "Deciding on the optimizer, number of batches, loss function and the number of epochs"
      ]
    },
    {
      "cell_type": "code",
      "execution_count": 6,
      "id": "5e148da8",
      "metadata": {
        "id": "5e148da8"
      },
      "outputs": [],
      "source": [
        "model=Net().to(device)\n",
        "\n",
        "loss = nn.CrossEntropyLoss()\n",
        "optimizer = optim.SGD(model.parameters(), lr=0.01,momentum = 0.9)\n",
        "batch_size = 64\n",
        "epochs = 15\n",
        "train_loader = torch.utils.data.DataLoader(mnist_trainset, batch_size=batch_size, shuffle=True)\n",
        "test_loader = torch.utils.data.DataLoader(mnist_testset, batch_size=batch_size, shuffle=True)"
      ]
    },
    {
      "cell_type": "markdown",
      "id": "7b24bb0f",
      "metadata": {
        "id": "7b24bb0f"
      },
      "source": [
        "### Step 3\n",
        "Start the training."
      ]
    },
    {
      "cell_type": "code",
      "execution_count": 7,
      "id": "2e30671f",
      "metadata": {
        "colab": {
          "base_uri": "https://localhost:8080/"
        },
        "id": "2e30671f",
        "outputId": "04d25c48-214c-4ff0-cc31-64241a537034"
      },
      "outputs": [
        {
          "name": "stdout",
          "output_type": "stream",
          "text": [
            "[1,   100] loss: 2.29950\n",
            "[1,   200] loss: 2.29237\n",
            "[1,   300] loss: 2.27076\n",
            "[1,   400] loss: 2.23536\n",
            "[1,   500] loss: 2.19724\n",
            "[1,   600] loss: 2.14843\n",
            "[1,   700] loss: 2.09890\n",
            "[1,   800] loss: 2.06020\n",
            "[1,   900] loss: 2.01404\n",
            "[2,   100] loss: 1.95244\n",
            "[2,   200] loss: 1.90363\n",
            "[2,   300] loss: 1.86498\n",
            "[2,   400] loss: 1.82417\n",
            "[2,   500] loss: 1.81695\n",
            "[2,   600] loss: 1.81246\n",
            "[2,   700] loss: 1.80601\n",
            "[2,   800] loss: 1.81359\n",
            "[2,   900] loss: 1.80864\n",
            "[3,   100] loss: 1.78834\n",
            "[3,   200] loss: 1.78828\n",
            "[3,   300] loss: 1.80638\n",
            "[3,   400] loss: 1.78580\n",
            "[3,   500] loss: 1.78891\n",
            "[3,   600] loss: 1.79087\n",
            "[3,   700] loss: 1.79544\n",
            "[3,   800] loss: 1.78866\n",
            "[3,   900] loss: 1.77776\n",
            "[4,   100] loss: 1.77355\n",
            "[4,   200] loss: 1.74665\n",
            "[4,   300] loss: 1.75247\n",
            "[4,   400] loss: 1.72813\n",
            "[4,   500] loss: 1.72757\n",
            "[4,   600] loss: 1.72035\n",
            "[4,   700] loss: 1.72433\n",
            "[4,   800] loss: 1.71709\n",
            "[4,   900] loss: 1.71521\n",
            "[5,   100] loss: 1.71175\n",
            "[5,   200] loss: 1.71103\n",
            "[5,   300] loss: 1.71116\n",
            "[5,   400] loss: 1.70566\n",
            "[5,   500] loss: 1.70391\n",
            "[5,   600] loss: 1.70565\n",
            "[5,   700] loss: 1.71127\n",
            "[5,   800] loss: 1.69802\n",
            "[5,   900] loss: 1.70054\n",
            "[6,   100] loss: 1.70292\n",
            "[6,   200] loss: 1.70056\n",
            "[6,   300] loss: 1.70212\n",
            "[6,   400] loss: 1.70560\n",
            "[6,   500] loss: 1.70134\n",
            "[6,   600] loss: 1.68622\n",
            "[6,   700] loss: 1.69960\n",
            "[6,   800] loss: 1.69105\n",
            "[6,   900] loss: 1.67854\n",
            "[7,   100] loss: 1.65916\n",
            "[7,   200] loss: 1.65531\n",
            "[7,   300] loss: 1.65928\n",
            "[7,   400] loss: 1.65196\n",
            "[7,   500] loss: 1.64958\n",
            "[7,   600] loss: 1.65187\n",
            "[7,   700] loss: 1.64144\n",
            "[7,   800] loss: 1.63754\n",
            "[7,   900] loss: 1.63843\n",
            "[8,   100] loss: 1.63460\n",
            "[8,   200] loss: 1.63400\n",
            "[8,   300] loss: 1.63029\n",
            "[8,   400] loss: 1.63779\n",
            "[8,   500] loss: 1.63726\n",
            "[8,   600] loss: 1.62968\n",
            "[8,   700] loss: 1.62573\n",
            "[8,   800] loss: 1.60538\n",
            "[8,   900] loss: 1.59018\n",
            "[9,   100] loss: 1.58268\n",
            "[9,   200] loss: 1.57362\n",
            "[9,   300] loss: 1.57164\n",
            "[9,   400] loss: 1.56758\n",
            "[9,   500] loss: 1.56034\n",
            "[9,   600] loss: 1.55807\n",
            "[9,   700] loss: 1.55694\n",
            "[9,   800] loss: 1.56208\n",
            "[9,   900] loss: 1.55063\n",
            "[10,   100] loss: 1.55193\n",
            "[10,   200] loss: 1.54883\n",
            "[10,   300] loss: 1.55225\n",
            "[10,   400] loss: 1.55268\n",
            "[10,   500] loss: 1.54387\n",
            "[10,   600] loss: 1.54912\n",
            "[10,   700] loss: 1.54355\n",
            "[10,   800] loss: 1.54041\n",
            "[10,   900] loss: 1.54471\n",
            "[11,   100] loss: 1.53945\n",
            "[11,   200] loss: 1.54090\n",
            "[11,   300] loss: 1.54197\n",
            "[11,   400] loss: 1.53882\n",
            "[11,   500] loss: 1.53602\n",
            "[11,   600] loss: 1.53623\n",
            "[11,   700] loss: 1.53726\n",
            "[11,   800] loss: 1.53150\n",
            "[11,   900] loss: 1.53606\n",
            "[12,   100] loss: 1.53399\n",
            "[12,   200] loss: 1.53377\n",
            "[12,   300] loss: 1.53150\n",
            "[12,   400] loss: 1.52559\n",
            "[12,   500] loss: 1.53116\n",
            "[12,   600] loss: 1.52929\n",
            "[12,   700] loss: 1.52917\n",
            "[12,   800] loss: 1.52896\n",
            "[12,   900] loss: 1.52824\n",
            "[13,   100] loss: 1.52888\n",
            "[13,   200] loss: 1.52290\n",
            "[13,   300] loss: 1.52339\n",
            "[13,   400] loss: 1.52212\n",
            "[13,   500] loss: 1.52493\n",
            "[13,   600] loss: 1.52529\n",
            "[13,   700] loss: 1.52270\n",
            "[13,   800] loss: 1.52549\n",
            "[13,   900] loss: 1.52069\n",
            "[14,   100] loss: 1.51940\n",
            "[14,   200] loss: 1.52184\n",
            "[14,   300] loss: 1.52093\n",
            "[14,   400] loss: 1.52112\n",
            "[14,   500] loss: 1.51910\n",
            "[14,   600] loss: 1.51796\n",
            "[14,   700] loss: 1.52185\n",
            "[14,   800] loss: 1.51442\n",
            "[14,   900] loss: 1.51135\n",
            "[15,   100] loss: 1.51361\n",
            "[15,   200] loss: 1.51087\n",
            "[15,   300] loss: 1.51916\n",
            "[15,   400] loss: 1.51292\n",
            "[15,   500] loss: 1.51337\n",
            "[15,   600] loss: 1.51182\n",
            "[15,   700] loss: 1.51883\n",
            "[15,   800] loss: 1.51257\n",
            "[15,   900] loss: 1.51568\n",
            "Finished Training\n"
          ]
        }
      ],
      "source": [
        "for epoch in range(epochs):\n",
        "    running_loss = 0.0\n",
        "    for i,x_train in enumerate(train_loader):\n",
        "        inputs, labels = x_train\n",
        "        inputs, labels = inputs.to(device), labels.to(device)\n",
        "        \n",
        "        optimizer.zero_grad()\n",
        "        output = model(inputs.view(-1,28*28))\n",
        "        losses = loss(output, labels)\n",
        "        losses.backward()\n",
        "        optimizer.step()\n",
        "        running_loss += losses.item()\n",
        "        if i % 100 == 99:    # print every 100 mini-batches\n",
        "            print('[%d, %5d] loss: %.5f' %\n",
        "            (epoch + 1, i + 1, running_loss / 100))\n",
        "            running_loss = 0.0        \n",
        "print('Finished Training') "
      ]
    },
    {
      "cell_type": "markdown",
      "id": "27c0e1e7",
      "metadata": {
        "id": "27c0e1e7"
      },
      "source": [
        "### Step 4\n",
        "Test your model's accuracy"
      ]
    },
    {
      "cell_type": "code",
      "execution_count": 8,
      "id": "da2341bc",
      "metadata": {
        "colab": {
          "base_uri": "https://localhost:8080/"
        },
        "id": "da2341bc",
        "outputId": "49d1e4df-f951-4fee-ee67-46df7c01b10b"
      },
      "outputs": [
        {
          "name": "stdout",
          "output_type": "stream",
          "text": [
            "95.5\n"
          ]
        }
      ],
      "source": [
        "total = 0 \n",
        "true = 0\n",
        "for ind,test in enumerate(test_loader):\n",
        "  test_inp,test_lab = test\n",
        "  for test_inp_single,test_lab_single in zip(test_inp,test_lab):\n",
        "    test_out = model(test_inp_single.view(-1,28*28))\n",
        "    if torch.argmax(test_out) == test_lab_single:\n",
        "      true += 1\n",
        "    total += 1\n",
        "    running_loss = 0.0   \n",
        "print(true/total*100)"
      ]
    },
    {
      "cell_type": "markdown",
      "id": "1a78a39a",
      "metadata": {
        "id": "1a78a39a"
      },
      "source": [
        "### Step 5\n",
        "\n",
        "Get some training or test data samples to visualize the predictions."
      ]
    },
    {
      "cell_type": "code",
      "execution_count": 9,
      "id": "d6a973b3",
      "metadata": {
        "colab": {
          "base_uri": "https://localhost:8080/",
          "height": 1000
        },
        "id": "d6a973b3",
        "outputId": "54226df9-593c-4b61-c002-0cf106901301"
      },
      "outputs": [
        {
          "name": "stdout",
          "output_type": "stream",
          "text": [
            "Batch_Size=  64\n",
            "True Label = 1 \n",
            "True Label = 8 \n",
            "True Label = 6 \n",
            "True Label = 7 \n",
            "True Label = 0 \n"
          ]
        },
        {
          "data": {
            "image/png": "[encoded data removed]",
            "text/plain": [
              "<Figure size 640x480 with 1 Axes>"
            ]
          },
          "metadata": {},
          "output_type": "display_data"
        },
        {
          "data": {
            "image/png": "[encoded data removed]",
            "text/plain": [
              "<Figure size 640x480 with 1 Axes>"
            ]
          },
          "metadata": {},
          "output_type": "display_data"
        },
        {
          "data": {
            "image/png": "[encoded data removed]",
            "text/plain": [
              "<Figure size 640x480 with 1 Axes>"
            ]
          },
          "metadata": {},
          "output_type": "display_data"
        },
        {
          "data": {
            "image/png": "[encoded data removed]",
            "text/plain": [
              "<Figure size 640x480 with 1 Axes>"
            ]
          },
          "metadata": {},
          "output_type": "display_data"
        },
        {
          "data": {
            "image/png": "[encoded data removed]",
            "text/plain": [
              "<Figure size 640x480 with 1 Axes>"
            ]
          },
          "metadata": {},
          "output_type": "display_data"
        }
      ],
      "source": [
        "def TakesamplesfromNthBatch(loader,N,model):\n",
        "    \n",
        "    inputsout=[]\n",
        "    labelsout=[]\n",
        "    \n",
        "    for i,data in enumerate(train_loader):\n",
        "        inputs, labels = data\n",
        "        inputsout=inputs.squeeze().numpy()\n",
        "        labelsout=labels.numpy()    \n",
        "           \n",
        "        if i==N:\n",
        "            prediction = model(inputs.to(device).view(-1, 784))\n",
        "            predictionout = np.argmax(prediction.detach().cpu().numpy(),axis=1) \n",
        "            break\n",
        "\n",
        "    return inputsout, labelsout, predictionout\n",
        "trial_input,trial_labels,trial_prediction = TakesamplesfromNthBatch(train_loader,1,model)\n",
        "print('Batch_Size= ', batch_size)\n",
        "\n",
        "numberIntheBatch=0\n",
        "Nofexamples=5\n",
        "for i in range(Nofexamples):    \n",
        "    \n",
        "    plt.figure()\n",
        "    imgplot = plt.imshow(trial_input[numberIntheBatch])\n",
        "    plt.title(' NN prediction = %i'  %trial_prediction[numberIntheBatch])\n",
        "    print('True Label = %i ' %trial_labels[numberIntheBatch])\n",
        "    numberIntheBatch=numberIntheBatch+1"
      ]
    }
  ],
  "metadata": {
    "colab": {
      "provenance": []
    },
    "gpuClass": "standard",
    "kernelspec": {
      "display_name": "Python 3",
      "language": "python",
      "name": "python3"
    },
    "language_info": {
      "codemirror_mode": {
        "name": "ipython",
        "version": 3
      },
      "file_extension": ".py",
      "mimetype": "text/x-python",
      "name": "python",
      "nbconvert_exporter": "python",
      "pygments_lexer": "ipython3",
      "version": "3.10.9 (tags/v3.10.9:1dd9be6, Dec  6 2022, 20:01:21) [MSC v.1934 64 bit (AMD64)]"
    },
    "vscode": {
      "interpreter": {
        "hash": "e9487f80b5c2735bbc4afc7489ff13f77596a62e20b78908b8eb2e8fe79271a4"
      }
    }
  },
  "nbformat": 4,
  "nbformat_minor": 5
}
